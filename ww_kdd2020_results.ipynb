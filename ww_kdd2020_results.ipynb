{
  "nbformat": 4,
  "nbformat_minor": 0,
  "metadata": {
    "colab": {
      "name": "ww_kdd2020_results.ipynb",
      "provenance": [],
      "collapsed_sections": [],
      "include_colab_link": true
    },
    "kernelspec": {
      "name": "python3",
      "display_name": "Python 3"
    }
  },
  "cells": [
    {
      "cell_type": "markdown",
      "metadata": {
        "id": "view-in-github",
        "colab_type": "text"
      },
      "source": [
        "<a href=\"https://colab.research.google.com/github/CalculatedContent/ww-colab/blob/master/ww_kdd2020_results.ipynb\" target=\"_parent\"><img src=\"https://colab.research.google.com/assets/colab-badge.svg\" alt=\"Open In Colab\"/></a>"
      ]
    },
    {
      "cell_type": "markdown",
      "metadata": {
        "id": "9XPqlpbuz3iP",
        "colab_type": "text"
      },
      "source": [
        "### **Analyze all CV Results**"
      ]
    },
    {
      "cell_type": "code",
      "metadata": {
        "id": "tPJRDcXy-pLo",
        "colab_type": "code",
        "colab": {}
      },
      "source": [
        "import pandas as pd\n",
        "import numpy as np\n",
        "import time\n",
        "import datetime as dt\n",
        "import itertools\n",
        "import os\n",
        "import statsmodels.api as sm\n",
        "import matplotlib.pyplot as plt\n",
        "from google.colab import files #Google colab ONLY"
      ],
      "execution_count": 0,
      "outputs": []
    },
    {
      "cell_type": "code",
      "metadata": {
        "id": "25bF1z3dEd2g",
        "colab_type": "code",
        "colab": {}
      },
      "source": [
        "istart = 0\n",
        "iend = istart+100"
      ],
      "execution_count": 0,
      "outputs": []
    },
    {
      "cell_type": "code",
      "metadata": {
        "id": "BNFrbs5i4Pgl",
        "colab_type": "code",
        "outputId": "6864792d-2787-45b8-9525-c3c24feaa8aa",
        "colab": {
          "base_uri": "https://localhost:8080/",
          "height": 122
        }
      },
      "source": [
        "## If export the output to Google Drive (colab ONLY) --> Optional\n",
        "from google.colab import drive\n",
        "drive.mount('/content/drive')"
      ],
      "execution_count": 0,
      "outputs": [
        {
          "output_type": "stream",
          "text": [
            "Go to this URL in a browser: https://accounts.google.com/o/oauth2/auth?client_id=947318989803-6bn6qk8qdgf4n4g3pfee6491hc0brc4i.apps.googleusercontent.com&redirect_uri=urn%3aietf%3awg%3aoauth%3a2.0%3aoob&response_type=code&scope=email%20https%3a%2f%2fwww.googleapis.com%2fauth%2fdocs.test%20https%3a%2f%2fwww.googleapis.com%2fauth%2fdrive%20https%3a%2f%2fwww.googleapis.com%2fauth%2fdrive.photos.readonly%20https%3a%2f%2fwww.googleapis.com%2fauth%2fpeopleapi.readonly\n",
            "\n",
            "Enter your authorization code:\n",
            "··········\n",
            "Mounted at /content/drive\n"
          ],
          "name": "stdout"
        }
      ]
    },
    {
      "cell_type": "code",
      "metadata": {
        "id": "AiP5ak80E2US",
        "colab_type": "code",
        "colab": {}
      },
      "source": [
        "import sys\n",
        "path = '/content/drive/My Drive/kdd2020_cv'\n",
        "sys.path.append(path)"
      ],
      "execution_count": 0,
      "outputs": []
    },
    {
      "cell_type": "code",
      "metadata": {
        "id": "KmLi65LDgUWn",
        "colab_type": "code",
        "outputId": "160fa016-a5dd-4ea2-a688-6bbbccdee7fe",
        "colab": {
          "base_uri": "https://localhost:8080/",
          "height": 187
        }
      },
      "source": [
        "# data*x* \"$path\"/wwdata-0.2.3\n",
        "!ls \"$path\"\n"
      ],
      "execution_count": 0,
      "outputs": [
        {
          "output_type": "stream",
          "text": [
            "data_0-12_2020-01-16.xlsx     data_100-75_2020-01-16.xlsx\n",
            "data_0-20_2020-01-16.xlsx     data_300-100_2020-01-16.xlsx\n",
            "data_0-25_2020-01-16.xlsx     data_300-25_2020-01-16.xlsx\n",
            "data_0-7_2020-01-16.xlsx      data_300-39_2020-01-16.xlsx\n",
            "data_100-100_2020-01-16.xlsx  data_300-49_2020-01-16.xlsx\n",
            "data_100-19_2020-01-16.xlsx   data_300-50_2020-01-16.xlsx\n",
            "data_100-25_2020-01-16.xlsx   data_300-75_2020-01-16.xlsx\n",
            "data_100-44_2020-01-16.xlsx   data_300-92_2020-01-16.xlsx\n",
            "data_100-48_2020-01-16.xlsx   wwdata-0.2.3\n",
            "data_100-50_2020-01-16.xlsx\n"
          ],
          "name": "stdout"
        }
      ]
    },
    {
      "cell_type": "code",
      "metadata": {
        "id": "uHHgg91gb61f",
        "colab_type": "code",
        "outputId": "c0cb1567-29a5-4763-e00e-531a782f86e5",
        "colab": {
          "base_uri": "https://localhost:8080/",
          "height": 819
        }
      },
      "source": [
        "!pip install weightwatcher #install from source\n",
        "#!pip install powerlaw #needed if install ww from local"
      ],
      "execution_count": 0,
      "outputs": [
        {
          "output_type": "stream",
          "text": [
            "Collecting weightwatcher\n",
            "  Downloading https://files.pythonhosted.org/packages/92/34/ad4047b6449e14db4a1bd707ec4626945c977309969318b6d18b619ed82c/WeightWatcher-0.2.7-py3-none-any.whl\n",
            "Requirement already satisfied: pandas in /usr/local/lib/python3.6/dist-packages (from weightwatcher) (0.25.3)\n",
            "Requirement already satisfied: keras in /usr/local/lib/python3.6/dist-packages (from weightwatcher) (2.2.5)\n",
            "Requirement already satisfied: sklearn in /usr/local/lib/python3.6/dist-packages (from weightwatcher) (0.0)\n",
            "Requirement already satisfied: numpy in /usr/local/lib/python3.6/dist-packages (from weightwatcher) (1.17.5)\n",
            "Requirement already satisfied: tensorflow in /usr/local/lib/python3.6/dist-packages (from weightwatcher) (1.15.0)\n",
            "Requirement already satisfied: matplotlib in /usr/local/lib/python3.6/dist-packages (from weightwatcher) (3.1.2)\n",
            "Collecting powerlaw\n",
            "  Downloading https://files.pythonhosted.org/packages/d5/4e/3ceab890fafff8e78a5fd7f5340c232c38b21d181fcd32d7a31079db3646/powerlaw-1.4.6.tar.gz\n",
            "Requirement already satisfied: python-dateutil>=2.6.1 in /usr/local/lib/python3.6/dist-packages (from pandas->weightwatcher) (2.6.1)\n",
            "Requirement already satisfied: pytz>=2017.2 in /usr/local/lib/python3.6/dist-packages (from pandas->weightwatcher) (2018.9)\n",
            "Requirement already satisfied: keras-applications>=1.0.8 in /usr/local/lib/python3.6/dist-packages (from keras->weightwatcher) (1.0.8)\n",
            "Requirement already satisfied: keras-preprocessing>=1.1.0 in /usr/local/lib/python3.6/dist-packages (from keras->weightwatcher) (1.1.0)\n",
            "Requirement already satisfied: scipy>=0.14 in /usr/local/lib/python3.6/dist-packages (from keras->weightwatcher) (1.4.1)\n",
            "Requirement already satisfied: pyyaml in /usr/local/lib/python3.6/dist-packages (from keras->weightwatcher) (3.13)\n",
            "Requirement already satisfied: h5py in /usr/local/lib/python3.6/dist-packages (from keras->weightwatcher) (2.8.0)\n",
            "Requirement already satisfied: six>=1.9.0 in /usr/local/lib/python3.6/dist-packages (from keras->weightwatcher) (1.12.0)\n",
            "Requirement already satisfied: scikit-learn in /usr/local/lib/python3.6/dist-packages (from sklearn->weightwatcher) (0.22.1)\n",
            "Requirement already satisfied: protobuf>=3.6.1 in /usr/local/lib/python3.6/dist-packages (from tensorflow->weightwatcher) (3.10.0)\n",
            "Requirement already satisfied: tensorflow-estimator==1.15.1 in /usr/local/lib/python3.6/dist-packages (from tensorflow->weightwatcher) (1.15.1)\n",
            "Requirement already satisfied: absl-py>=0.7.0 in /usr/local/lib/python3.6/dist-packages (from tensorflow->weightwatcher) (0.9.0)\n",
            "Requirement already satisfied: tensorboard<1.16.0,>=1.15.0 in /usr/local/lib/python3.6/dist-packages (from tensorflow->weightwatcher) (1.15.0)\n",
            "Requirement already satisfied: astor>=0.6.0 in /usr/local/lib/python3.6/dist-packages (from tensorflow->weightwatcher) (0.8.1)\n",
            "Requirement already satisfied: wheel>=0.26 in /usr/local/lib/python3.6/dist-packages (from tensorflow->weightwatcher) (0.33.6)\n",
            "Requirement already satisfied: google-pasta>=0.1.6 in /usr/local/lib/python3.6/dist-packages (from tensorflow->weightwatcher) (0.1.8)\n",
            "Requirement already satisfied: wrapt>=1.11.1 in /usr/local/lib/python3.6/dist-packages (from tensorflow->weightwatcher) (1.11.2)\n",
            "Requirement already satisfied: termcolor>=1.1.0 in /usr/local/lib/python3.6/dist-packages (from tensorflow->weightwatcher) (1.1.0)\n",
            "Requirement already satisfied: grpcio>=1.8.6 in /usr/local/lib/python3.6/dist-packages (from tensorflow->weightwatcher) (1.15.0)\n",
            "Requirement already satisfied: gast==0.2.2 in /usr/local/lib/python3.6/dist-packages (from tensorflow->weightwatcher) (0.2.2)\n",
            "Requirement already satisfied: opt-einsum>=2.3.2 in /usr/local/lib/python3.6/dist-packages (from tensorflow->weightwatcher) (3.1.0)\n",
            "Requirement already satisfied: cycler>=0.10 in /usr/local/lib/python3.6/dist-packages (from matplotlib->weightwatcher) (0.10.0)\n",
            "Requirement already satisfied: pyparsing!=2.0.4,!=2.1.2,!=2.1.6,>=2.0.1 in /usr/local/lib/python3.6/dist-packages (from matplotlib->weightwatcher) (2.4.6)\n",
            "Requirement already satisfied: kiwisolver>=1.0.1 in /usr/local/lib/python3.6/dist-packages (from matplotlib->weightwatcher) (1.1.0)\n",
            "Requirement already satisfied: mpmath in /usr/local/lib/python3.6/dist-packages (from powerlaw->weightwatcher) (1.1.0)\n",
            "Requirement already satisfied: joblib>=0.11 in /usr/local/lib/python3.6/dist-packages (from scikit-learn->sklearn->weightwatcher) (0.14.1)\n",
            "Requirement already satisfied: setuptools in /usr/local/lib/python3.6/dist-packages (from protobuf>=3.6.1->tensorflow->weightwatcher) (42.0.2)\n",
            "Requirement already satisfied: markdown>=2.6.8 in /usr/local/lib/python3.6/dist-packages (from tensorboard<1.16.0,>=1.15.0->tensorflow->weightwatcher) (3.1.1)\n",
            "Requirement already satisfied: werkzeug>=0.11.15 in /usr/local/lib/python3.6/dist-packages (from tensorboard<1.16.0,>=1.15.0->tensorflow->weightwatcher) (0.16.0)\n",
            "Building wheels for collected packages: powerlaw\n",
            "  Building wheel for powerlaw (setup.py) ... \u001b[?25l\u001b[?25hdone\n",
            "  Created wheel for powerlaw: filename=powerlaw-1.4.6-cp36-none-any.whl size=24786 sha256=5a2b54c0c2ba76f7cacedc6796921241670f6e429156969d51dfd94c26e7697d\n",
            "  Stored in directory: /root/.cache/pip/wheels/e0/27/02/08d0e2865072bfd8d7c655e290521e3feca3fc22f1ac460601\n",
            "Successfully built powerlaw\n",
            "Installing collected packages: powerlaw, weightwatcher\n",
            "Successfully installed powerlaw-1.4.6 weightwatcher-0.2.7\n"
          ],
          "name": "stdout"
        }
      ]
    },
    {
      "cell_type": "code",
      "metadata": {
        "id": "LHTAsJKtJ8qC",
        "colab_type": "code",
        "outputId": "7a63bd54-efc2-4f76-eeae-c18975a90973",
        "colab": {
          "base_uri": "https://localhost:8080/",
          "height": 80
        }
      },
      "source": [
        "import weightwatcher as ww\n",
        "\n",
        "# Suppress the powerlaw package warnings\n",
        "# \"powerlaw.py:700: RuntimeWarning: divide by zero encountered in true_divide\"\n",
        "# \"powerlaw.py:700: RuntimeWarning: invalid value encountered in true_divide\"\n",
        "import warnings\n",
        "warnings.simplefilter(action='ignore', category=RuntimeWarning)\n",
        "\n",
        "# crea\n",
        "import logging\n",
        "logger = logging.getLogger(\"imported_module\")\n",
        "logger.setLevel(logging.CRITICAL)"
      ],
      "execution_count": 0,
      "outputs": [
        {
          "output_type": "display_data",
          "data": {
            "text/html": [
              "<p style=\"color: red;\">\n",
              "The default version of TensorFlow in Colab will soon switch to TensorFlow 2.x.<br>\n",
              "We recommend you <a href=\"https://www.tensorflow.org/guide/migrate\" target=\"_blank\">upgrade</a> now \n",
              "or ensure your notebook will continue to use TensorFlow 1.x via the <code>%tensorflow_version 1.x</code> magic:\n",
              "<a href=\"https://colab.research.google.com/notebooks/tensorflow_version.ipynb\" target=\"_blank\">more info</a>.</p>\n"
            ],
            "text/plain": [
              "<IPython.core.display.HTML object>"
            ]
          },
          "metadata": {
            "tags": []
          }
        },
        {
          "output_type": "stream",
          "text": [
            "Using TensorFlow backend.\n"
          ],
          "name": "stderr"
        }
      ]
    },
    {
      "cell_type": "markdown",
      "metadata": {
        "id": "ejeeJWoTBcvR",
        "colab_type": "text"
      },
      "source": [
        "### **1. Analyze all models in Pytorchcv**"
      ]
    },
    {
      "cell_type": "code",
      "metadata": {
        "id": "kXAg7rm2qn5Q",
        "colab_type": "code",
        "outputId": "620a1c15-f53b-4512-f2f4-6468b7a0bd8f",
        "colab": {
          "base_uri": "https://localhost:8080/",
          "height": 224
        }
      },
      "source": [
        "!pip install pytorchcv"
      ],
      "execution_count": 0,
      "outputs": [
        {
          "output_type": "stream",
          "text": [
            "Collecting pytorchcv\n",
            "\u001b[?25l  Downloading https://files.pythonhosted.org/packages/a2/ce/72d2a2cddeffe5476e85139b71b12a607c07fde9d6a3bdb38b94a9336e67/pytorchcv-0.0.54-py2.py3-none-any.whl (390kB)\n",
            "\u001b[K     |████████████████████████████████| 399kB 2.9MB/s \n",
            "\u001b[?25hRequirement already satisfied: requests in /usr/local/lib/python3.6/dist-packages (from pytorchcv) (2.21.0)\n",
            "Requirement already satisfied: numpy in /usr/local/lib/python3.6/dist-packages (from pytorchcv) (1.17.5)\n",
            "Requirement already satisfied: certifi>=2017.4.17 in /usr/local/lib/python3.6/dist-packages (from requests->pytorchcv) (2019.11.28)\n",
            "Requirement already satisfied: idna<2.9,>=2.5 in /usr/local/lib/python3.6/dist-packages (from requests->pytorchcv) (2.8)\n",
            "Requirement already satisfied: urllib3<1.25,>=1.21.1 in /usr/local/lib/python3.6/dist-packages (from requests->pytorchcv) (1.24.3)\n",
            "Requirement already satisfied: chardet<3.1.0,>=3.0.2 in /usr/local/lib/python3.6/dist-packages (from requests->pytorchcv) (3.0.4)\n",
            "Installing collected packages: pytorchcv\n",
            "Successfully installed pytorchcv-0.0.54\n"
          ],
          "name": "stdout"
        }
      ]
    },
    {
      "cell_type": "code",
      "metadata": {
        "id": "pU4-NO40NZGl",
        "colab_type": "code",
        "colab": {}
      },
      "source": [
        "## Check storage\n",
        "#import subprocess\n",
        "#p = subprocess.Popen('df -h', shell=True, stdout=subprocess.PIPE)\n",
        "#print(str(p.communicate()[0], 'utf-8'))"
      ],
      "execution_count": 0,
      "outputs": []
    },
    {
      "cell_type": "code",
      "metadata": {
        "id": "NfGZcdKHYu7H",
        "colab_type": "code",
        "outputId": "cd0b18c2-d962-4b3f-c40f-492530d7e4fa",
        "colab": {
          "base_uri": "https://localhost:8080/",
          "height": 34
        }
      },
      "source": [
        "from pytorchcv.model_provider import get_model as ptcv_get_model\n",
        "import torch\n",
        "\n",
        "import pytorchcv\n",
        "import pytorchcv.models.model_store\n",
        "\n",
        "modelnames = pytorchcv.models.model_store._model_sha1.keys()\n",
        "modelnames = list(modelnames)\n",
        "print('{} models to examine'.format(len(modelnames)))"
      ],
      "execution_count": 0,
      "outputs": [
        {
          "output_type": "stream",
          "text": [
            "483 models to examine\n"
          ],
          "name": "stdout"
        }
      ]
    },
    {
      "cell_type": "code",
      "metadata": {
        "id": "Ljg9e5w2SACq",
        "colab_type": "code",
        "colab": {}
      },
      "source": [
        "# this_models = pd.read_excel('notfound.xlsx')[0].tolist()\n",
        "# len(this_models[1:])"
      ],
      "execution_count": 0,
      "outputs": []
    },
    {
      "cell_type": "code",
      "metadata": {
        "id": "zjb66_fPS7Gq",
        "colab_type": "code",
        "colab": {}
      },
      "source": [
        "## Export the whole dataset mannually\n",
        "# ddf = pd.DataFrame.from_dict(data).transpose()\n",
        "# ddf.to_excel(path + '/df_all.xlsx')\n",
        "#files.download(path + '/df_all.xlsx')\n",
        "# ddf.to_excel(path + '/data_{}-{}_{}.xlsx'.format(start, i, dt.date.today()))"
      ],
      "execution_count": 0,
      "outputs": []
    },
    {
      "cell_type": "code",
      "metadata": {
        "id": "o9xEUl5iPtMR",
        "colab_type": "code",
        "outputId": "901c7825-4887-4f16-a1f2-96e2a5541a37",
        "colab": {
          "base_uri": "https://localhost:8080/",
          "height": 130
        }
      },
      "source": [
        "#f notfound != []:\n",
        "    pd.DataFrame(notfound).to_excel(path + '/notfound_{}.xlsx'.format(dt.date.today()))\n",
        "\n",
        "if ww_error != []:\n",
        "    pd.DataFrame(notfound).to_excel(path + '/ww_error_{}.xlsx'.format(dt.date.today()))"
      ],
      "execution_count": 0,
      "outputs": [
        {
          "output_type": "error",
          "ename": "IndentationError",
          "evalue": "ignored",
          "traceback": [
            "\u001b[0;36m  File \u001b[0;32m\"<ipython-input-1-50347664ad5a>\"\u001b[0;36m, line \u001b[0;32m4\u001b[0m\n\u001b[0;31m    pd.DataFrame(notfound).to_excel(path + '/ww_error_{}.xlsx'.format(dt.date.today()))\u001b[0m\n\u001b[0m     ^\u001b[0m\n\u001b[0;31mIndentationError\u001b[0m\u001b[0;31m:\u001b[0m expected an indented block\n"
          ]
        }
      ]
    },
    {
      "cell_type": "markdown",
      "metadata": {
        "id": "wWDLmUFmor2f",
        "colab_type": "text"
      },
      "source": [
        "# Read in all pre-computed Data"
      ]
    },
    {
      "cell_type": "code",
      "metadata": {
        "id": "wko72-U54smC",
        "colab_type": "code",
        "outputId": "0d6beaa3-f851-4701-f0e0-cc55e66151ab",
        "colab": {
          "base_uri": "https://localhost:8080/",
          "height": 1000
        }
      },
      "source": [
        "try:\n",
        "    ## Load the model results data\n",
        "    # df_all = pd.read_excel('/content/drive/My Drive/df_all.xlsx')\\\n",
        "    #       .rename(columns = {'Unnamed: 0': 'index'}).set_index('index')\n",
        "    df_all = pd.read_excel(path + '/df_all.xlsx').rename(columns = {'Unnamed: 0': 'index'}).set_index('index')\n",
        "    df_all.head()\n",
        "\n",
        "except:\n",
        "    ## If the above cell runs different batches of the data\n",
        "    ## Use this cell to concat the data together\n",
        "    print('Concating files...')\n",
        "    df_all = pd.DataFrame()\n",
        "    for f in os.listdir(path):\n",
        "        if f.startswith('data_'): #detect data\n",
        "            tempp = pd.read_excel(path + '/' + f)\\\n",
        "                        .rename(columns = {'Unnamed: 0':'modelname'})\n",
        "            df_all = pd.concat([df_all, tempp], axis = 0, sort = False)\n",
        "            print(f)\n",
        "            print(df_all.tail(1))\n",
        "\n",
        "    del tempp\n",
        "\n",
        "    df_all = df_all.drop_duplicates().reset_index(drop = True)\n",
        "\n",
        "print(len(df_all))\n",
        "#df_all.dropna(inplace=True)\n",
        "#print(len(df_all))"
      ],
      "execution_count": 0,
      "outputs": [
        {
          "output_type": "stream",
          "text": [
            "Concating files...\n",
            "data_300-25_2020-01-16.xlsx\n",
            "                   modelname    check  ...  logpnorm  logpnorm_compound\n",
            "24  sepreresnet272bn_cifar10  0.36055  ... -5.003357          -7.124658\n",
            "\n",
            "[1 rows x 35 columns]\n",
            "data_100-19_2020-01-16.xlsx\n",
            "    modelname     check  ...  logpnorm  logpnorm_compound\n",
            "18  darknet53  0.640198  ... -8.051045          -9.631363\n",
            "\n",
            "[1 rows x 35 columns]\n",
            "data_0-7_2020-01-16.xlsx\n",
            "  modelname     check  ...  logpnorm  logpnorm_compound\n",
            "6     vgg16  1.369025  ... -4.246341          -4.563021\n",
            "\n",
            "[1 rows x 35 columns]\n",
            "data_100-25_2020-01-16.xlsx\n",
            "   modelname     check  ...  logpnorm  logpnorm_compound\n",
            "24    dla46c  1.337836  ... -6.311641          -9.590654\n",
            "\n",
            "[1 rows x 35 columns]\n",
            "data_300-39_2020-01-16.xlsx\n",
            "                  modelname     check  ...  logpnorm  logpnorm_compound\n",
            "38  pyramidnet110_a270_svhn  0.422408  ... -5.453188          -5.453188\n",
            "\n",
            "[1 rows x 35 columns]\n",
            "data_0-12_2020-01-16.xlsx\n",
            "   modelname     check  ...  logpnorm  logpnorm_compound\n",
            "11  bn_vgg19  1.044824  ... -5.440395          -7.265709\n",
            "\n",
            "[1 rows x 35 columns]\n",
            "data_100-44_2020-01-16.xlsx\n",
            "      modelname     check  ...  logpnorm  logpnorm_compound\n",
            "43  hrnetv2_w32  0.361532  ... -6.871373          -7.139365\n",
            "\n",
            "[1 rows x 35 columns]\n",
            "data_300-49_2020-01-16.xlsx\n",
            "                        modelname     check  ...  logpnorm  logpnorm_compound\n",
            "48  pyramidnet272_a200_bn_cifar10  0.348514  ... -5.661503          -8.703861\n",
            "\n",
            "[1 rows x 35 columns]\n",
            "data_300-50_2020-01-16.xlsx\n",
            "                         modelname     check  ...  logpnorm  logpnorm_compound\n",
            "49  pyramidnet272_a200_bn_cifar100  0.480045  ... -6.612422          -9.619692\n",
            "\n",
            "[1 rows x 35 columns]\n",
            "data_300-75_2020-01-16.xlsx\n",
            "                        modelname     check  ...   logpnorm  logpnorm_compound\n",
            "74  xdensenet40_2_k24_bc_cifar100  1.216908  ... -10.344782         -10.344782\n",
            "\n",
            "[1 rows x 35 columns]\n",
            "data_0-20_2020-01-16.xlsx\n",
            "   modelname     check  ...  logpnorm  logpnorm_compound\n",
            "19  resnet14  2.185747  ... -3.734463          -4.946537\n",
            "\n",
            "[1 rows x 35 columns]\n",
            "data_0-25_2020-01-16.xlsx\n",
            "        modelname     check  ...  logpnorm  logpnorm_compound\n",
            "24  resnet18_w3d4  1.857631  ... -5.107866          -6.602951\n",
            "\n",
            "[1 rows x 35 columns]\n",
            "data_100-48_2020-01-16.xlsx\n",
            "      modelname     check  ...  logpnorm  logpnorm_compound\n",
            "47  hrnetv2_w64  0.306987  ... -7.482307          -7.718421\n",
            "\n",
            "[1 rows x 35 columns]\n",
            "data_100-50_2020-01-16.xlsx\n",
            "          modelname     check  ...  logpnorm  logpnorm_compound\n",
            "49  squeezenet_v1_1  2.135208  ...  -4.31541          -5.641954\n",
            "\n",
            "[1 rows x 35 columns]\n",
            "data_100-75_2020-01-16.xlsx\n",
            "           modelname     check  ...  logpnorm  logpnorm_compound\n",
            "74  shufflenetv2b_w1  0.657268  ...  -9.41012           -9.41012\n",
            "\n",
            "[1 rows x 35 columns]\n",
            "data_100-100_2020-01-16.xlsx\n",
            "    modelname     check  ...   logpnorm  logpnorm_compound\n",
            "99  igcv3_wd2  0.253947  ... -12.799475         -12.799475\n",
            "\n",
            "[1 rows x 35 columns]\n",
            "data_300-92_2020-01-16.xlsx\n",
            "                 modelname     check  ...  logpnorm  logpnorm_compound\n",
            "91  wrn20_10_32bit_cifar10  0.762043  ... -4.727972          -4.727972\n",
            "\n",
            "[1 rows x 35 columns]\n",
            "data_300-100_2020-01-16.xlsx\n",
            "        modelname     check  ...  logpnorm  logpnorm_compound\n",
            "99  ror3_110_svhn  0.593331  ... -5.009858          -5.009858\n",
            "\n",
            "[1 rows x 35 columns]\n",
            "225\n"
          ],
          "name": "stdout"
        }
      ]
    },
    {
      "cell_type": "code",
      "metadata": {
        "id": "qXus97gYLtRt",
        "colab_type": "code",
        "outputId": "8a1459ba-24cd-4a34-9e92-69466047a308",
        "colab": {
          "base_uri": "https://localhost:8080/",
          "height": 34
        }
      },
      "source": [
        "!ls \"$path\"/df_all.xlsx"
      ],
      "execution_count": 0,
      "outputs": [
        {
          "output_type": "stream",
          "text": [
            "ls: cannot access '/content/drive/My Drive/kdd2020_cv/df_all.xlsx': No such file or directory\n"
          ],
          "name": "stdout"
        }
      ]
    },
    {
      "cell_type": "code",
      "metadata": {
        "id": "urNYUw01o06x",
        "colab_type": "code",
        "outputId": "5c7e9e6a-30d7-4fc3-f33f-5e019dc47d91",
        "colab": {
          "base_uri": "https://localhost:8080/",
          "height": 34
        }
      },
      "source": [
        "len(df_all)"
      ],
      "execution_count": 0,
      "outputs": [
        {
          "output_type": "execute_result",
          "data": {
            "text/plain": [
              "225"
            ]
          },
          "metadata": {
            "tags": []
          },
          "execution_count": 15
        }
      ]
    },
    {
      "cell_type": "code",
      "metadata": {
        "id": "bpANKu16LTnq",
        "colab_type": "code",
        "colab": {}
      },
      "source": [
        "## Get the modelname of outliers\n",
        "# temp = df_all.copy()\n",
        "# temp = temp.sort_values(['softrank'], ascending = False)\n",
        "# outliers_sr = temp['modelname'].tolist()[:10]\n",
        "\n",
        "# temp = temp.sort_values(['spectralnorm'], ascending = False)\n",
        "# outliers_sp = temp['modelname'].tolist()[:10]\n",
        "\n",
        "# [s for s in outliers_sp if s not in outliers_sr]"
      ],
      "execution_count": 0,
      "outputs": []
    },
    {
      "cell_type": "code",
      "metadata": {
        "id": "6NQyUBPnG0OP",
        "colab_type": "code",
        "colab": {}
      },
      "source": [
        "## Get the details of outliers\n",
        "# writer = pd.ExcelWriter('/content/drive/My Drive/sp_outliers.xlsx')\n",
        "# for s in [s for s in outliers_sp if s not in outliers_sr]:#outliers:\n",
        "#     model = ptcv_get_model(s, pretrained=True) #'resnet542bn_svhn'\n",
        "#     watcher = ww.WeightWatcher(model=model, logger=logger)\n",
        "#     results = watcher.analyze(compute_alphas = False, compute_spectralnorms=True, compute_softranks=True)\n",
        "    \n",
        "#     temp1 = watcher.get_details()\n",
        "#     temp1.to_excel(writer, s)\n",
        "    \n",
        "# writer.save()"
      ],
      "execution_count": 0,
      "outputs": []
    },
    {
      "cell_type": "markdown",
      "metadata": {
        "id": "raB6OyxwZG77",
        "colab_type": "text"
      },
      "source": [
        "### **2. Plots with Test Accuracies**"
      ]
    },
    {
      "cell_type": "code",
      "metadata": {
        "id": "EPjKlnz-Z9nK",
        "colab_type": "code",
        "colab": {}
      },
      "source": [
        "from bs4 import BeautifulSoup\n",
        "import requests\n",
        "import re"
      ],
      "execution_count": 0,
      "outputs": []
    },
    {
      "cell_type": "code",
      "metadata": {
        "id": "ZaXLhh_kZU4h",
        "colab_type": "code",
        "colab": {}
      },
      "source": [
        "'''Load the test accuracies'''\n",
        "url = \"https://github.com/osmr/imgclsmob/blob/master/pytorch/README.md\"\n",
        "df_accuracy = pd.read_html(url)"
      ],
      "execution_count": 0,
      "outputs": []
    },
    {
      "cell_type": "code",
      "metadata": {
        "id": "0p_uMpjrK3YH",
        "colab_type": "code",
        "colab": {}
      },
      "source": [
        "'''Create the matchtable: Match the model name'''\n",
        "response = requests.get(url)\n",
        "page = str(BeautifulSoup(response.content, features=\"lxml\"))\n",
        "\n",
        "## To find the category of models to group when plotting\n",
        "models = re.findall('<li>(.*) \\(<a href=', page) \n",
        "\n",
        "## The naming convention is not very consistent, therefore, to help with identification,\n",
        "## I input the exceptions\n",
        "exceptions = {'SqueezeNext': 'SqNxt', 'DIA-ResNet': 'DIA-PreResNet', \n",
        "              'DarkNet Ref/Tiny/19': 'DarkNet Tiny', \n",
        "              'IBN-ResNet/IBN-ResNeXt/IBN-DenseNet': 'IBN(b)-ResNet'} \n",
        "models_ = [m if m not in exceptions.keys() else m+'/'+exceptions[m] for m in models]\n",
        "models_ = [m.split('/') for m in models_]\n",
        "\n",
        "## Use reg exp to extract the dataset name, modelnames (used in README), and \n",
        "## modelnames (used in codes)\n",
        "datasets = re.findall('<h3><a aria-hidden=\"true\" class=\"anchor\" href=\"#(.*)\" id', page)\n",
        "lst1_name = re.findall('<tr>\\n<td>(.*)</td>', page)\n",
        "lst2_name = re.findall('\\n<td>.* \\(<a href=\"(.*)\">log</a>\\)</td>\\n</tr>', page)\n",
        "\n",
        "if len(lst1_name) != len(lst2_name):\n",
        "    print('Number does not match!')\n",
        "\n",
        "df_table = pd.DataFrame(lst1_name, columns = ['Model'])\n",
        "\n",
        "## Note: there are duplicate Model names, hence cannot use merge naively\n",
        "df_table['modelname'] = [m.split('/')[-1][:-22] for m in lst2_name]"
      ],
      "execution_count": 0,
      "outputs": []
    },
    {
      "cell_type": "code",
      "metadata": {
        "id": "5MD5fqlJLU8s",
        "colab_type": "code",
        "colab": {}
      },
      "source": [
        "'''Identify the architexture for each pretrained model'''\n",
        "class ContinueI(Exception):\n",
        "    pass\n",
        "\n",
        "continue_i = ContinueI()\n",
        "\n",
        "arch = []\n",
        "for i in range(len(df_table)):\n",
        "    try:\n",
        "        for mm in models_:\n",
        "            for m1 in mm:\n",
        "                ## Name convention 1: the model name starts with the arch name\n",
        "                if df_table.loc[i, 'Model'].startswith(m1): \n",
        "                    arch.append(mm)\n",
        "                    raise continue_i\n",
        "        try:\n",
        "            ## Name convention 2: if the model name starts with number, \n",
        "            ## the arch name is in the middle of the model name\n",
        "            this = re.findall('[0-9]+-(.*)', df_table.loc[i, 'Model'])[0]\n",
        "        except:\n",
        "            arch.append(np.nan)\n",
        "            raise continue_i\n",
        "\n",
        "        for mm in models_:\n",
        "            for m1 in mm:\n",
        "                if this.startswith(m1):\n",
        "                    arch.append(mm)\n",
        "\n",
        "                    raise continue_i\n",
        "\n",
        "        arch.append(np.nan)\n",
        "\n",
        "    except ContinueI:\n",
        "        continue\n",
        "\n",
        "df_table['group'] = arch\n",
        "df_table['group'] = df_table['group'].apply(lambda x: '/'.join(x))\n"
      ],
      "execution_count": 0,
      "outputs": []
    },
    {
      "cell_type": "code",
      "metadata": {
        "id": "LOfvAY1Uhv84",
        "colab_type": "code",
        "colab": {}
      },
      "source": [
        "'''Match the model name using matchtable'''\n",
        "# df_all = pd.read_excel(path + '/df_all.xlsx').rename(columns = {'Unnamed: 0': 'index'}).set_index('index')\n",
        "df_all['spectralnormlog'] = np.log(df_all['spectralnorm'])\n",
        "\n",
        "df_full = []\n",
        "i = 0\n",
        "\n",
        "for df in df_accuracy:\n",
        "    # Because there are duplicate Model names (on README), you cannot\n",
        "    # simply use merge\n",
        "    df = df.copy()\n",
        "    df['modelname'] = df_table.loc[i:i+len(df)-1, 'modelname'].tolist()#temp[i:i+len(df)]\n",
        "    df['group'] = df_table.loc[i:i+len(df)-1, 'group'].tolist()\n",
        "    i += len(df)\n",
        "\n",
        "    del df['Remarks']\n",
        "\n",
        "    df = df.merge(df_all, on = 'modelname', how = 'left')\n",
        "\n",
        "    df_full.append(df)\n",
        "\n",
        "df_full = dict(zip(datasets, df_full))\n"
      ],
      "execution_count": 0,
      "outputs": []
    },
    {
      "cell_type": "code",
      "metadata": {
        "id": "ixOdy3j_GSbP",
        "colab_type": "code",
        "outputId": "354f2127-a0a4-45d9-fd88-be67c71c908f",
        "colab": {
          "base_uri": "https://localhost:8080/",
          "height": 456
        }
      },
      "source": [
        "df_full['imagenet-1k']"
      ],
      "execution_count": 0,
      "outputs": [
        {
          "output_type": "execute_result",
          "data": {
            "text/html": [
              "<div>\n",
              "<style scoped>\n",
              "    .dataframe tbody tr th:only-of-type {\n",
              "        vertical-align: middle;\n",
              "    }\n",
              "\n",
              "    .dataframe tbody tr th {\n",
              "        vertical-align: top;\n",
              "    }\n",
              "\n",
              "    .dataframe thead th {\n",
              "        text-align: right;\n",
              "    }\n",
              "</style>\n",
              "<table border=\"1\" class=\"dataframe\">\n",
              "  <thead>\n",
              "    <tr style=\"text-align: right;\">\n",
              "      <th></th>\n",
              "      <th>Model</th>\n",
              "      <th>Top1</th>\n",
              "      <th>Top5</th>\n",
              "      <th>Params</th>\n",
              "      <th>FLOPs/2</th>\n",
              "      <th>modelname</th>\n",
              "      <th>group</th>\n",
              "      <th>check</th>\n",
              "      <th>check_compound</th>\n",
              "      <th>checkTF</th>\n",
              "      <th>checkTF_compound</th>\n",
              "      <th>norm</th>\n",
              "      <th>norm_compound</th>\n",
              "      <th>lognorm</th>\n",
              "      <th>lognorm_compound</th>\n",
              "      <th>normX</th>\n",
              "      <th>normX_compound</th>\n",
              "      <th>lognormX</th>\n",
              "      <th>lognormX_compound</th>\n",
              "      <th>alpha</th>\n",
              "      <th>alpha_compound</th>\n",
              "      <th>alpha_weighted</th>\n",
              "      <th>alpha_weighted_compound</th>\n",
              "      <th>spectralnorm</th>\n",
              "      <th>spectralnorm_compound</th>\n",
              "      <th>softrank</th>\n",
              "      <th>softrank_compound</th>\n",
              "      <th>softranklog</th>\n",
              "      <th>softranklog_compound</th>\n",
              "      <th>softranklogratio</th>\n",
              "      <th>softranklogratio_compound</th>\n",
              "      <th>sigma_mp</th>\n",
              "      <th>sigma_mp_compound</th>\n",
              "      <th>numofSpikes</th>\n",
              "      <th>numofSpikes_compound</th>\n",
              "      <th>ratio_numofSpikes</th>\n",
              "      <th>ratio_numofSpikes_compound</th>\n",
              "      <th>softrank_mp</th>\n",
              "      <th>softrank_mp_compound</th>\n",
              "      <th>logpnorm</th>\n",
              "      <th>logpnorm_compound</th>\n",
              "      <th>spectralnormlog</th>\n",
              "    </tr>\n",
              "  </thead>\n",
              "  <tbody>\n",
              "    <tr>\n",
              "      <th>0</th>\n",
              "      <td>AlexNet</td>\n",
              "      <td>40.96</td>\n",
              "      <td>18.24</td>\n",
              "      <td>62378344</td>\n",
              "      <td>1,132.33M</td>\n",
              "      <td>alexnet</td>\n",
              "      <td>AlexNet</td>\n",
              "      <td>6.312063</td>\n",
              "      <td>1.803071</td>\n",
              "      <td>0.193182</td>\n",
              "      <td>0.383333</td>\n",
              "      <td>17.027948</td>\n",
              "      <td>19.122663</td>\n",
              "      <td>1.213128</td>\n",
              "      <td>1.270097</td>\n",
              "      <td>0.166801</td>\n",
              "      <td>0.080055</td>\n",
              "      <td>-0.979706</td>\n",
              "      <td>-1.527419</td>\n",
              "      <td>2.653116</td>\n",
              "      <td>2.629965</td>\n",
              "      <td>-3.454571</td>\n",
              "      <td>-4.736433</td>\n",
              "      <td>1.089963</td>\n",
              "      <td>0.229421</td>\n",
              "      <td>15.736961</td>\n",
              "      <td>26.715962</td>\n",
              "      <td>1.145412</td>\n",
              "      <td>1.348129</td>\n",
              "      <td>1.961531</td>\n",
              "      <td>2.196280</td>\n",
              "      <td>0.384328</td>\n",
              "      <td>0.438779</td>\n",
              "      <td>0.218182</td>\n",
              "      <td>0.068571</td>\n",
              "      <td>0.002297</td>\n",
              "      <td>0.000722</td>\n",
              "      <td>29.298285</td>\n",
              "      <td>131.784874</td>\n",
              "      <td>-3.004268</td>\n",
              "      <td>-4.241018</td>\n",
              "      <td>0.086144</td>\n",
              "    </tr>\n",
              "    <tr>\n",
              "      <th>1</th>\n",
              "      <td>AlexNet-b</td>\n",
              "      <td>41.58</td>\n",
              "      <td>19.00</td>\n",
              "      <td>61100840</td>\n",
              "      <td>714.83M</td>\n",
              "      <td>alexnetb</td>\n",
              "      <td>AlexNet</td>\n",
              "      <td>5.415376</td>\n",
              "      <td>1.641999</td>\n",
              "      <td>0.204545</td>\n",
              "      <td>0.393333</td>\n",
              "      <td>15.142357</td>\n",
              "      <td>18.014004</td>\n",
              "      <td>1.158144</td>\n",
              "      <td>1.238356</td>\n",
              "      <td>0.179978</td>\n",
              "      <td>0.083756</td>\n",
              "      <td>-0.973516</td>\n",
              "      <td>-1.534708</td>\n",
              "      <td>2.591940</td>\n",
              "      <td>2.611971</td>\n",
              "      <td>-3.334085</td>\n",
              "      <td>-4.706621</td>\n",
              "      <td>1.181267</td>\n",
              "      <td>0.248856</td>\n",
              "      <td>14.278321</td>\n",
              "      <td>24.886991</td>\n",
              "      <td>1.100462</td>\n",
              "      <td>1.313405</td>\n",
              "      <td>1.977554</td>\n",
              "      <td>2.185516</td>\n",
              "      <td>0.387343</td>\n",
              "      <td>0.441296</td>\n",
              "      <td>0.363636</td>\n",
              "      <td>0.114286</td>\n",
              "      <td>0.005772</td>\n",
              "      <td>0.001814</td>\n",
              "      <td>24.494601</td>\n",
              "      <td>122.550029</td>\n",
              "      <td>-2.896617</td>\n",
              "      <td>-4.251831</td>\n",
              "      <td>0.166588</td>\n",
              "    </tr>\n",
              "    <tr>\n",
              "      <th>2</th>\n",
              "      <td>ZFNet</td>\n",
              "      <td>39.79</td>\n",
              "      <td>17.27</td>\n",
              "      <td>62357608</td>\n",
              "      <td>1,170.33M</td>\n",
              "      <td>zfnet</td>\n",
              "      <td>ZFNet</td>\n",
              "      <td>4.725841</td>\n",
              "      <td>1.786327</td>\n",
              "      <td>0.211538</td>\n",
              "      <td>0.305556</td>\n",
              "      <td>17.195885</td>\n",
              "      <td>19.206074</td>\n",
              "      <td>1.228810</td>\n",
              "      <td>1.275319</td>\n",
              "      <td>0.155790</td>\n",
              "      <td>0.078288</td>\n",
              "      <td>-0.934183</td>\n",
              "      <td>-1.508118</td>\n",
              "      <td>2.756450</td>\n",
              "      <td>2.674295</td>\n",
              "      <td>-3.395865</td>\n",
              "      <td>-4.715886</td>\n",
              "      <td>0.709714</td>\n",
              "      <td>0.212507</td>\n",
              "      <td>14.951624</td>\n",
              "      <td>26.439746</td>\n",
              "      <td>1.118418</td>\n",
              "      <td>1.335730</td>\n",
              "      <td>1.885556</td>\n",
              "      <td>2.168971</td>\n",
              "      <td>0.384777</td>\n",
              "      <td>0.439220</td>\n",
              "      <td>0.000000</td>\n",
              "      <td>0.000000</td>\n",
              "      <td>0.000000</td>\n",
              "      <td>0.000000</td>\n",
              "      <td>28.450806</td>\n",
              "      <td>132.171529</td>\n",
              "      <td>-2.987718</td>\n",
              "      <td>-4.233372</td>\n",
              "      <td>-0.342893</td>\n",
              "    </tr>\n",
              "    <tr>\n",
              "      <th>3</th>\n",
              "      <td>ZFNet-b</td>\n",
              "      <td>36.37</td>\n",
              "      <td>14.90</td>\n",
              "      <td>107627624</td>\n",
              "      <td>2,479.13M</td>\n",
              "      <td>zfnetb</td>\n",
              "      <td>ZFNet</td>\n",
              "      <td>5.037417</td>\n",
              "      <td>1.844308</td>\n",
              "      <td>0.221154</td>\n",
              "      <td>0.319444</td>\n",
              "      <td>19.061750</td>\n",
              "      <td>21.009226</td>\n",
              "      <td>1.272548</td>\n",
              "      <td>1.315737</td>\n",
              "      <td>0.148260</td>\n",
              "      <td>0.064679</td>\n",
              "      <td>-1.044757</td>\n",
              "      <td>-1.647523</td>\n",
              "      <td>2.655884</td>\n",
              "      <td>2.636655</td>\n",
              "      <td>-3.647813</td>\n",
              "      <td>-5.095844</td>\n",
              "      <td>0.838032</td>\n",
              "      <td>0.240086</td>\n",
              "      <td>17.095301</td>\n",
              "      <td>29.968735</td>\n",
              "      <td>1.162326</td>\n",
              "      <td>1.386917</td>\n",
              "      <td>1.894057</td>\n",
              "      <td>2.190090</td>\n",
              "      <td>0.309366</td>\n",
              "      <td>0.373594</td>\n",
              "      <td>0.018182</td>\n",
              "      <td>0.005714</td>\n",
              "      <td>0.000191</td>\n",
              "      <td>0.000060</td>\n",
              "      <td>24.870391</td>\n",
              "      <td>146.165129</td>\n",
              "      <td>-3.198966</td>\n",
              "      <td>-4.577106</td>\n",
              "      <td>-0.176699</td>\n",
              "    </tr>\n",
              "    <tr>\n",
              "      <th>4</th>\n",
              "      <td>VGG-11</td>\n",
              "      <td>29.90</td>\n",
              "      <td>10.36</td>\n",
              "      <td>132863336</td>\n",
              "      <td>7,615.87M</td>\n",
              "      <td>vgg11</td>\n",
              "      <td>VGG/BN-VGG</td>\n",
              "      <td>1.943881</td>\n",
              "      <td>1.474718</td>\n",
              "      <td>0.653333</td>\n",
              "      <td>0.494949</td>\n",
              "      <td>16.136616</td>\n",
              "      <td>18.019598</td>\n",
              "      <td>1.199311</td>\n",
              "      <td>1.242720</td>\n",
              "      <td>0.114261</td>\n",
              "      <td>0.085121</td>\n",
              "      <td>-1.100308</td>\n",
              "      <td>-1.447290</td>\n",
              "      <td>2.718865</td>\n",
              "      <td>2.633820</td>\n",
              "      <td>-3.966844</td>\n",
              "      <td>-4.674448</td>\n",
              "      <td>0.230468</td>\n",
              "      <td>0.175164</td>\n",
              "      <td>19.147906</td>\n",
              "      <td>26.872274</td>\n",
              "      <td>1.226026</td>\n",
              "      <td>1.337490</td>\n",
              "      <td>2.089823</td>\n",
              "      <td>2.210968</td>\n",
              "      <td>0.560004</td>\n",
              "      <td>0.535836</td>\n",
              "      <td>0.015152</td>\n",
              "      <td>0.011111</td>\n",
              "      <td>0.000241</td>\n",
              "      <td>0.000176</td>\n",
              "      <td>60.658461</td>\n",
              "      <td>151.894148</td>\n",
              "      <td>-3.505900</td>\n",
              "      <td>-4.157350</td>\n",
              "      <td>-1.467644</td>\n",
              "    </tr>\n",
              "    <tr>\n",
              "      <th>...</th>\n",
              "      <td>...</td>\n",
              "      <td>...</td>\n",
              "      <td>...</td>\n",
              "      <td>...</td>\n",
              "      <td>...</td>\n",
              "      <td>...</td>\n",
              "      <td>...</td>\n",
              "      <td>...</td>\n",
              "      <td>...</td>\n",
              "      <td>...</td>\n",
              "      <td>...</td>\n",
              "      <td>...</td>\n",
              "      <td>...</td>\n",
              "      <td>...</td>\n",
              "      <td>...</td>\n",
              "      <td>...</td>\n",
              "      <td>...</td>\n",
              "      <td>...</td>\n",
              "      <td>...</td>\n",
              "      <td>...</td>\n",
              "      <td>...</td>\n",
              "      <td>...</td>\n",
              "      <td>...</td>\n",
              "      <td>...</td>\n",
              "      <td>...</td>\n",
              "      <td>...</td>\n",
              "      <td>...</td>\n",
              "      <td>...</td>\n",
              "      <td>...</td>\n",
              "      <td>...</td>\n",
              "      <td>...</td>\n",
              "      <td>...</td>\n",
              "      <td>...</td>\n",
              "      <td>...</td>\n",
              "      <td>...</td>\n",
              "      <td>...</td>\n",
              "      <td>...</td>\n",
              "      <td>...</td>\n",
              "      <td>...</td>\n",
              "      <td>...</td>\n",
              "      <td>...</td>\n",
              "      <td>...</td>\n",
              "    </tr>\n",
              "    <tr>\n",
              "      <th>247</th>\n",
              "      <td>MixNet-M</td>\n",
              "      <td>22.93</td>\n",
              "      <td>6.60</td>\n",
              "      <td>5014382</td>\n",
              "      <td>366.68M</td>\n",
              "      <td>mixnet_m</td>\n",
              "      <td>MixNet</td>\n",
              "      <td>NaN</td>\n",
              "      <td>NaN</td>\n",
              "      <td>NaN</td>\n",
              "      <td>NaN</td>\n",
              "      <td>NaN</td>\n",
              "      <td>NaN</td>\n",
              "      <td>NaN</td>\n",
              "      <td>NaN</td>\n",
              "      <td>NaN</td>\n",
              "      <td>NaN</td>\n",
              "      <td>NaN</td>\n",
              "      <td>NaN</td>\n",
              "      <td>NaN</td>\n",
              "      <td>NaN</td>\n",
              "      <td>NaN</td>\n",
              "      <td>NaN</td>\n",
              "      <td>NaN</td>\n",
              "      <td>NaN</td>\n",
              "      <td>NaN</td>\n",
              "      <td>NaN</td>\n",
              "      <td>NaN</td>\n",
              "      <td>NaN</td>\n",
              "      <td>NaN</td>\n",
              "      <td>NaN</td>\n",
              "      <td>NaN</td>\n",
              "      <td>NaN</td>\n",
              "      <td>NaN</td>\n",
              "      <td>NaN</td>\n",
              "      <td>NaN</td>\n",
              "      <td>NaN</td>\n",
              "      <td>NaN</td>\n",
              "      <td>NaN</td>\n",
              "      <td>NaN</td>\n",
              "      <td>NaN</td>\n",
              "      <td>NaN</td>\n",
              "    </tr>\n",
              "    <tr>\n",
              "      <th>248</th>\n",
              "      <td>MixNet-L</td>\n",
              "      <td>21.12</td>\n",
              "      <td>5.82</td>\n",
              "      <td>7329252</td>\n",
              "      <td>591.34M</td>\n",
              "      <td>mixnet_l</td>\n",
              "      <td>MixNet</td>\n",
              "      <td>NaN</td>\n",
              "      <td>NaN</td>\n",
              "      <td>NaN</td>\n",
              "      <td>NaN</td>\n",
              "      <td>NaN</td>\n",
              "      <td>NaN</td>\n",
              "      <td>NaN</td>\n",
              "      <td>NaN</td>\n",
              "      <td>NaN</td>\n",
              "      <td>NaN</td>\n",
              "      <td>NaN</td>\n",
              "      <td>NaN</td>\n",
              "      <td>NaN</td>\n",
              "      <td>NaN</td>\n",
              "      <td>NaN</td>\n",
              "      <td>NaN</td>\n",
              "      <td>NaN</td>\n",
              "      <td>NaN</td>\n",
              "      <td>NaN</td>\n",
              "      <td>NaN</td>\n",
              "      <td>NaN</td>\n",
              "      <td>NaN</td>\n",
              "      <td>NaN</td>\n",
              "      <td>NaN</td>\n",
              "      <td>NaN</td>\n",
              "      <td>NaN</td>\n",
              "      <td>NaN</td>\n",
              "      <td>NaN</td>\n",
              "      <td>NaN</td>\n",
              "      <td>NaN</td>\n",
              "      <td>NaN</td>\n",
              "      <td>NaN</td>\n",
              "      <td>NaN</td>\n",
              "      <td>NaN</td>\n",
              "      <td>NaN</td>\n",
              "    </tr>\n",
              "    <tr>\n",
              "      <th>249</th>\n",
              "      <td>ResNet(D)-50b</td>\n",
              "      <td>21.04</td>\n",
              "      <td>5.65</td>\n",
              "      <td>25680808</td>\n",
              "      <td>20,497.60M</td>\n",
              "      <td>resnetd50b</td>\n",
              "      <td>ResNet</td>\n",
              "      <td>NaN</td>\n",
              "      <td>NaN</td>\n",
              "      <td>NaN</td>\n",
              "      <td>NaN</td>\n",
              "      <td>NaN</td>\n",
              "      <td>NaN</td>\n",
              "      <td>NaN</td>\n",
              "      <td>NaN</td>\n",
              "      <td>NaN</td>\n",
              "      <td>NaN</td>\n",
              "      <td>NaN</td>\n",
              "      <td>NaN</td>\n",
              "      <td>NaN</td>\n",
              "      <td>NaN</td>\n",
              "      <td>NaN</td>\n",
              "      <td>NaN</td>\n",
              "      <td>NaN</td>\n",
              "      <td>NaN</td>\n",
              "      <td>NaN</td>\n",
              "      <td>NaN</td>\n",
              "      <td>NaN</td>\n",
              "      <td>NaN</td>\n",
              "      <td>NaN</td>\n",
              "      <td>NaN</td>\n",
              "      <td>NaN</td>\n",
              "      <td>NaN</td>\n",
              "      <td>NaN</td>\n",
              "      <td>NaN</td>\n",
              "      <td>NaN</td>\n",
              "      <td>NaN</td>\n",
              "      <td>NaN</td>\n",
              "      <td>NaN</td>\n",
              "      <td>NaN</td>\n",
              "      <td>NaN</td>\n",
              "      <td>NaN</td>\n",
              "    </tr>\n",
              "    <tr>\n",
              "      <th>250</th>\n",
              "      <td>ResNet(D)-101b</td>\n",
              "      <td>19.59</td>\n",
              "      <td>4.73</td>\n",
              "      <td>44672936</td>\n",
              "      <td>35,392.65M</td>\n",
              "      <td>resnetd101b</td>\n",
              "      <td>ResNet</td>\n",
              "      <td>NaN</td>\n",
              "      <td>NaN</td>\n",
              "      <td>NaN</td>\n",
              "      <td>NaN</td>\n",
              "      <td>NaN</td>\n",
              "      <td>NaN</td>\n",
              "      <td>NaN</td>\n",
              "      <td>NaN</td>\n",
              "      <td>NaN</td>\n",
              "      <td>NaN</td>\n",
              "      <td>NaN</td>\n",
              "      <td>NaN</td>\n",
              "      <td>NaN</td>\n",
              "      <td>NaN</td>\n",
              "      <td>NaN</td>\n",
              "      <td>NaN</td>\n",
              "      <td>NaN</td>\n",
              "      <td>NaN</td>\n",
              "      <td>NaN</td>\n",
              "      <td>NaN</td>\n",
              "      <td>NaN</td>\n",
              "      <td>NaN</td>\n",
              "      <td>NaN</td>\n",
              "      <td>NaN</td>\n",
              "      <td>NaN</td>\n",
              "      <td>NaN</td>\n",
              "      <td>NaN</td>\n",
              "      <td>NaN</td>\n",
              "      <td>NaN</td>\n",
              "      <td>NaN</td>\n",
              "      <td>NaN</td>\n",
              "      <td>NaN</td>\n",
              "      <td>NaN</td>\n",
              "      <td>NaN</td>\n",
              "      <td>NaN</td>\n",
              "    </tr>\n",
              "    <tr>\n",
              "      <th>251</th>\n",
              "      <td>ResNet(D)-152b</td>\n",
              "      <td>19.42</td>\n",
              "      <td>4.82</td>\n",
              "      <td>60316584</td>\n",
              "      <td>47,662.18M</td>\n",
              "      <td>resnetd152b</td>\n",
              "      <td>ResNet</td>\n",
              "      <td>NaN</td>\n",
              "      <td>NaN</td>\n",
              "      <td>NaN</td>\n",
              "      <td>NaN</td>\n",
              "      <td>NaN</td>\n",
              "      <td>NaN</td>\n",
              "      <td>NaN</td>\n",
              "      <td>NaN</td>\n",
              "      <td>NaN</td>\n",
              "      <td>NaN</td>\n",
              "      <td>NaN</td>\n",
              "      <td>NaN</td>\n",
              "      <td>NaN</td>\n",
              "      <td>NaN</td>\n",
              "      <td>NaN</td>\n",
              "      <td>NaN</td>\n",
              "      <td>NaN</td>\n",
              "      <td>NaN</td>\n",
              "      <td>NaN</td>\n",
              "      <td>NaN</td>\n",
              "      <td>NaN</td>\n",
              "      <td>NaN</td>\n",
              "      <td>NaN</td>\n",
              "      <td>NaN</td>\n",
              "      <td>NaN</td>\n",
              "      <td>NaN</td>\n",
              "      <td>NaN</td>\n",
              "      <td>NaN</td>\n",
              "      <td>NaN</td>\n",
              "      <td>NaN</td>\n",
              "      <td>NaN</td>\n",
              "      <td>NaN</td>\n",
              "      <td>NaN</td>\n",
              "      <td>NaN</td>\n",
              "      <td>NaN</td>\n",
              "    </tr>\n",
              "  </tbody>\n",
              "</table>\n",
              "<p>252 rows × 42 columns</p>\n",
              "</div>"
            ],
            "text/plain": [
              "              Model   Top1   Top5  ...  logpnorm logpnorm_compound spectralnormlog\n",
              "0           AlexNet  40.96  18.24  ... -3.004268         -4.241018        0.086144\n",
              "1         AlexNet-b  41.58  19.00  ... -2.896617         -4.251831        0.166588\n",
              "2             ZFNet  39.79  17.27  ... -2.987718         -4.233372       -0.342893\n",
              "3           ZFNet-b  36.37  14.90  ... -3.198966         -4.577106       -0.176699\n",
              "4            VGG-11  29.90  10.36  ... -3.505900         -4.157350       -1.467644\n",
              "..              ...    ...    ...  ...       ...               ...             ...\n",
              "247        MixNet-M  22.93   6.60  ...       NaN               NaN             NaN\n",
              "248        MixNet-L  21.12   5.82  ...       NaN               NaN             NaN\n",
              "249   ResNet(D)-50b  21.04   5.65  ...       NaN               NaN             NaN\n",
              "250  ResNet(D)-101b  19.59   4.73  ...       NaN               NaN             NaN\n",
              "251  ResNet(D)-152b  19.42   4.82  ...       NaN               NaN             NaN\n",
              "\n",
              "[252 rows x 42 columns]"
            ]
          },
          "metadata": {
            "tags": []
          },
          "execution_count": 23
        }
      ]
    },
    {
      "cell_type": "code",
      "metadata": {
        "id": "bckivaBcL2G3",
        "colab_type": "code",
        "colab": {}
      },
      "source": [
        "'''[SETUP CELL] Start Plotting'''\n",
        "metrics = ['alpha', 'alpha_weighted', 'spectralnormlog', 'softrank', 'norm', 'norm_compound' ] #specify the ww matrics\n",
        "metrics_acc = ['Top1', 'Top5', 'Error, %', 'Pix.Acc.,%', 'mIoU,%'] #specify the test accuracy\n",
        "\n",
        "metrics = ['alpha', 'alpha_weighted', 'spectralnormlog',  'softranklog',  'lognorm' ,'logpnorm' ] #specify the ww matrics\n",
        "metrics_acc = ['Top1', 'Error, %', 'Pix.Acc.,%', 'mIoU,%'] #specify the test accuracy\n",
        "\n",
        "num_rows = 2\n",
        "num_cols = 3"
      ],
      "execution_count": 0,
      "outputs": []
    },
    {
      "cell_type": "code",
      "metadata": {
        "id": "U0utPovSvB8i",
        "colab_type": "code",
        "outputId": "18c8e366-6c50-471e-c46b-f32aebc25c7a",
        "colab": {
          "base_uri": "https://localhost:8080/",
          "height": 1000
        }
      },
      "source": [
        "%matplotlib inline\n",
        "plot_fit = True\n",
        "\n",
        "'''Plotting by datasets'''\n",
        "df_fit0 = []\n",
        "\n",
        "for d in datasets:\n",
        "    temp = df_full[d].copy()\n",
        "\n",
        "    if len(temp) == 1:\n",
        "        continue\n",
        "\n",
        "    tacc = [c for c in metrics_acc if c in temp.columns]\n",
        "\n",
        "    plotloc = int(len(tacc)*len(metrics)/num_rows*100 + 10*num_cols + 1)\n",
        "\n",
        "\n",
        "    if len(tacc) > 1:\n",
        "        plt.figure(figsize = (12,20))\n",
        "    else:\n",
        "        plt.figure(figsize = (12,10))\n",
        "\n",
        "    for ac in tacc:#metrics_acc:\n",
        "        for x in metrics:\n",
        "            plt.subplot(plotloc)\n",
        "            plt.scatter(temp[x], temp[ac])\n",
        "            plt.xlabel(x)\n",
        "            plt.ylabel(ac)\n",
        "            plt.title('All {} pretrained models\\n({}~{})'.format(d, ac, x), \n",
        "                      fontweight = 'bold')\n",
        "\n",
        "            if plot_fit == True:\n",
        "                temp = temp.dropna().reset_index(drop = True)\n",
        "                this_fit = sm.OLS(temp[ac], sm.add_constant(temp[x])).fit()\n",
        "                this_x = np.linspace(min(temp[x]), max(temp[x]), 1000)\n",
        "                plt.plot(this_x, this_fit.predict(sm.add_constant(this_x)), linewidth = 2, color = 'orange')\n",
        "                df_fit0.append([d, ac, x, this_fit.ssr/len(temp), this_fit.rsquared])\n",
        "            plotloc += 1\n",
        "\n",
        "    plt.tight_layout()\n",
        "\n",
        "del temp\n",
        "del tacc\n",
        "\n",
        "if df_fit0 != []:\n",
        "    df_fit0 = pd.DataFrame(df_fit0, columns = ['dataset', 'test accuracy', 'x variable', 'MSE', 'r^2'])"
      ],
      "execution_count": 0,
      "outputs": [
        {
          "output_type": "stream",
          "text": [
            "/usr/local/lib/python3.6/dist-packages/numpy/core/fromnumeric.py:2495: FutureWarning: Method .ptp is deprecated and will be removed in a future version. Use numpy.ptp instead.\n",
            "  return ptp(axis=axis, out=out, **kwargs)\n"
          ],
          "name": "stderr"
        },
        {
          "output_type": "error",
          "ename": "ValueError",
          "evalue": "ignored",
          "traceback": [
            "\u001b[0;31m---------------------------------------------------------------------------\u001b[0m",
            "\u001b[0;31mValueError\u001b[0m                                Traceback (most recent call last)",
            "\u001b[0;32m<ipython-input-25-b92669f76882>\u001b[0m in \u001b[0;36m<module>\u001b[0;34m()\u001b[0m\n\u001b[1;32m     32\u001b[0m             \u001b[0;32mif\u001b[0m \u001b[0mplot_fit\u001b[0m \u001b[0;34m==\u001b[0m \u001b[0;32mTrue\u001b[0m\u001b[0;34m:\u001b[0m\u001b[0;34m\u001b[0m\u001b[0;34m\u001b[0m\u001b[0m\n\u001b[1;32m     33\u001b[0m                 \u001b[0mtemp\u001b[0m \u001b[0;34m=\u001b[0m \u001b[0mtemp\u001b[0m\u001b[0;34m.\u001b[0m\u001b[0mdropna\u001b[0m\u001b[0;34m(\u001b[0m\u001b[0;34m)\u001b[0m\u001b[0;34m.\u001b[0m\u001b[0mreset_index\u001b[0m\u001b[0;34m(\u001b[0m\u001b[0mdrop\u001b[0m \u001b[0;34m=\u001b[0m \u001b[0;32mTrue\u001b[0m\u001b[0;34m)\u001b[0m\u001b[0;34m\u001b[0m\u001b[0;34m\u001b[0m\u001b[0m\n\u001b[0;32m---> 34\u001b[0;31m                 \u001b[0mthis_fit\u001b[0m \u001b[0;34m=\u001b[0m \u001b[0msm\u001b[0m\u001b[0;34m.\u001b[0m\u001b[0mOLS\u001b[0m\u001b[0;34m(\u001b[0m\u001b[0mtemp\u001b[0m\u001b[0;34m[\u001b[0m\u001b[0mac\u001b[0m\u001b[0;34m]\u001b[0m\u001b[0;34m,\u001b[0m \u001b[0msm\u001b[0m\u001b[0;34m.\u001b[0m\u001b[0madd_constant\u001b[0m\u001b[0;34m(\u001b[0m\u001b[0mtemp\u001b[0m\u001b[0;34m[\u001b[0m\u001b[0mx\u001b[0m\u001b[0;34m]\u001b[0m\u001b[0;34m)\u001b[0m\u001b[0;34m)\u001b[0m\u001b[0;34m.\u001b[0m\u001b[0mfit\u001b[0m\u001b[0;34m(\u001b[0m\u001b[0;34m)\u001b[0m\u001b[0;34m\u001b[0m\u001b[0;34m\u001b[0m\u001b[0m\n\u001b[0m\u001b[1;32m     35\u001b[0m                 \u001b[0mthis_x\u001b[0m \u001b[0;34m=\u001b[0m \u001b[0mnp\u001b[0m\u001b[0;34m.\u001b[0m\u001b[0mlinspace\u001b[0m\u001b[0;34m(\u001b[0m\u001b[0mmin\u001b[0m\u001b[0;34m(\u001b[0m\u001b[0mtemp\u001b[0m\u001b[0;34m[\u001b[0m\u001b[0mx\u001b[0m\u001b[0;34m]\u001b[0m\u001b[0;34m)\u001b[0m\u001b[0;34m,\u001b[0m \u001b[0mmax\u001b[0m\u001b[0;34m(\u001b[0m\u001b[0mtemp\u001b[0m\u001b[0;34m[\u001b[0m\u001b[0mx\u001b[0m\u001b[0;34m]\u001b[0m\u001b[0;34m)\u001b[0m\u001b[0;34m,\u001b[0m \u001b[0;36m1000\u001b[0m\u001b[0;34m)\u001b[0m\u001b[0;34m\u001b[0m\u001b[0;34m\u001b[0m\u001b[0m\n\u001b[1;32m     36\u001b[0m                 \u001b[0mplt\u001b[0m\u001b[0;34m.\u001b[0m\u001b[0mplot\u001b[0m\u001b[0;34m(\u001b[0m\u001b[0mthis_x\u001b[0m\u001b[0;34m,\u001b[0m \u001b[0mthis_fit\u001b[0m\u001b[0;34m.\u001b[0m\u001b[0mpredict\u001b[0m\u001b[0;34m(\u001b[0m\u001b[0msm\u001b[0m\u001b[0;34m.\u001b[0m\u001b[0madd_constant\u001b[0m\u001b[0;34m(\u001b[0m\u001b[0mthis_x\u001b[0m\u001b[0;34m)\u001b[0m\u001b[0;34m)\u001b[0m\u001b[0;34m,\u001b[0m \u001b[0mlinewidth\u001b[0m \u001b[0;34m=\u001b[0m \u001b[0;36m2\u001b[0m\u001b[0;34m,\u001b[0m \u001b[0mcolor\u001b[0m \u001b[0;34m=\u001b[0m \u001b[0;34m'orange'\u001b[0m\u001b[0;34m)\u001b[0m\u001b[0;34m\u001b[0m\u001b[0;34m\u001b[0m\u001b[0m\n",
            "\u001b[0;32m/usr/local/lib/python3.6/dist-packages/statsmodels/regression/linear_model.py\u001b[0m in \u001b[0;36m__init__\u001b[0;34m(self, endog, exog, missing, hasconst, **kwargs)\u001b[0m\n\u001b[1;32m    836\u001b[0m                  **kwargs):\n\u001b[1;32m    837\u001b[0m         super(OLS, self).__init__(endog, exog, missing=missing,\n\u001b[0;32m--> 838\u001b[0;31m                                   hasconst=hasconst, **kwargs)\n\u001b[0m\u001b[1;32m    839\u001b[0m         \u001b[0;32mif\u001b[0m \u001b[0;34m\"weights\"\u001b[0m \u001b[0;32min\u001b[0m \u001b[0mself\u001b[0m\u001b[0;34m.\u001b[0m\u001b[0m_init_keys\u001b[0m\u001b[0;34m:\u001b[0m\u001b[0;34m\u001b[0m\u001b[0;34m\u001b[0m\u001b[0m\n\u001b[1;32m    840\u001b[0m             \u001b[0mself\u001b[0m\u001b[0;34m.\u001b[0m\u001b[0m_init_keys\u001b[0m\u001b[0;34m.\u001b[0m\u001b[0mremove\u001b[0m\u001b[0;34m(\u001b[0m\u001b[0;34m\"weights\"\u001b[0m\u001b[0;34m)\u001b[0m\u001b[0;34m\u001b[0m\u001b[0;34m\u001b[0m\u001b[0m\n",
            "\u001b[0;32m/usr/local/lib/python3.6/dist-packages/statsmodels/regression/linear_model.py\u001b[0m in \u001b[0;36m__init__\u001b[0;34m(self, endog, exog, weights, missing, hasconst, **kwargs)\u001b[0m\n\u001b[1;32m    682\u001b[0m             \u001b[0mweights\u001b[0m \u001b[0;34m=\u001b[0m \u001b[0mweights\u001b[0m\u001b[0;34m.\u001b[0m\u001b[0msqueeze\u001b[0m\u001b[0;34m(\u001b[0m\u001b[0;34m)\u001b[0m\u001b[0;34m\u001b[0m\u001b[0;34m\u001b[0m\u001b[0m\n\u001b[1;32m    683\u001b[0m         super(WLS, self).__init__(endog, exog, missing=missing,\n\u001b[0;32m--> 684\u001b[0;31m                                   weights=weights, hasconst=hasconst, **kwargs)\n\u001b[0m\u001b[1;32m    685\u001b[0m         \u001b[0mnobs\u001b[0m \u001b[0;34m=\u001b[0m \u001b[0mself\u001b[0m\u001b[0;34m.\u001b[0m\u001b[0mexog\u001b[0m\u001b[0;34m.\u001b[0m\u001b[0mshape\u001b[0m\u001b[0;34m[\u001b[0m\u001b[0;36m0\u001b[0m\u001b[0;34m]\u001b[0m\u001b[0;34m\u001b[0m\u001b[0;34m\u001b[0m\u001b[0m\n\u001b[1;32m    686\u001b[0m         \u001b[0mweights\u001b[0m \u001b[0;34m=\u001b[0m \u001b[0mself\u001b[0m\u001b[0;34m.\u001b[0m\u001b[0mweights\u001b[0m\u001b[0;34m\u001b[0m\u001b[0;34m\u001b[0m\u001b[0m\n",
            "\u001b[0;32m/usr/local/lib/python3.6/dist-packages/statsmodels/regression/linear_model.py\u001b[0m in \u001b[0;36m__init__\u001b[0;34m(self, endog, exog, **kwargs)\u001b[0m\n\u001b[1;32m    194\u001b[0m     \"\"\"\n\u001b[1;32m    195\u001b[0m     \u001b[0;32mdef\u001b[0m \u001b[0m__init__\u001b[0m\u001b[0;34m(\u001b[0m\u001b[0mself\u001b[0m\u001b[0;34m,\u001b[0m \u001b[0mendog\u001b[0m\u001b[0;34m,\u001b[0m \u001b[0mexog\u001b[0m\u001b[0;34m,\u001b[0m \u001b[0;34m**\u001b[0m\u001b[0mkwargs\u001b[0m\u001b[0;34m)\u001b[0m\u001b[0;34m:\u001b[0m\u001b[0;34m\u001b[0m\u001b[0;34m\u001b[0m\u001b[0m\n\u001b[0;32m--> 196\u001b[0;31m         \u001b[0msuper\u001b[0m\u001b[0;34m(\u001b[0m\u001b[0mRegressionModel\u001b[0m\u001b[0;34m,\u001b[0m \u001b[0mself\u001b[0m\u001b[0;34m)\u001b[0m\u001b[0;34m.\u001b[0m\u001b[0m__init__\u001b[0m\u001b[0;34m(\u001b[0m\u001b[0mendog\u001b[0m\u001b[0;34m,\u001b[0m \u001b[0mexog\u001b[0m\u001b[0;34m,\u001b[0m \u001b[0;34m**\u001b[0m\u001b[0mkwargs\u001b[0m\u001b[0;34m)\u001b[0m\u001b[0;34m\u001b[0m\u001b[0;34m\u001b[0m\u001b[0m\n\u001b[0m\u001b[1;32m    197\u001b[0m         \u001b[0mself\u001b[0m\u001b[0;34m.\u001b[0m\u001b[0m_data_attr\u001b[0m\u001b[0;34m.\u001b[0m\u001b[0mextend\u001b[0m\u001b[0;34m(\u001b[0m\u001b[0;34m[\u001b[0m\u001b[0;34m'pinv_wexog'\u001b[0m\u001b[0;34m,\u001b[0m \u001b[0;34m'wendog'\u001b[0m\u001b[0;34m,\u001b[0m \u001b[0;34m'wexog'\u001b[0m\u001b[0;34m,\u001b[0m \u001b[0;34m'weights'\u001b[0m\u001b[0;34m]\u001b[0m\u001b[0;34m)\u001b[0m\u001b[0;34m\u001b[0m\u001b[0;34m\u001b[0m\u001b[0m\n\u001b[1;32m    198\u001b[0m \u001b[0;34m\u001b[0m\u001b[0m\n",
            "\u001b[0;32m/usr/local/lib/python3.6/dist-packages/statsmodels/base/model.py\u001b[0m in \u001b[0;36m__init__\u001b[0;34m(self, endog, exog, **kwargs)\u001b[0m\n\u001b[1;32m    214\u001b[0m \u001b[0;34m\u001b[0m\u001b[0m\n\u001b[1;32m    215\u001b[0m     \u001b[0;32mdef\u001b[0m \u001b[0m__init__\u001b[0m\u001b[0;34m(\u001b[0m\u001b[0mself\u001b[0m\u001b[0;34m,\u001b[0m \u001b[0mendog\u001b[0m\u001b[0;34m,\u001b[0m \u001b[0mexog\u001b[0m\u001b[0;34m=\u001b[0m\u001b[0;32mNone\u001b[0m\u001b[0;34m,\u001b[0m \u001b[0;34m**\u001b[0m\u001b[0mkwargs\u001b[0m\u001b[0;34m)\u001b[0m\u001b[0;34m:\u001b[0m\u001b[0;34m\u001b[0m\u001b[0;34m\u001b[0m\u001b[0m\n\u001b[0;32m--> 216\u001b[0;31m         \u001b[0msuper\u001b[0m\u001b[0;34m(\u001b[0m\u001b[0mLikelihoodModel\u001b[0m\u001b[0;34m,\u001b[0m \u001b[0mself\u001b[0m\u001b[0;34m)\u001b[0m\u001b[0;34m.\u001b[0m\u001b[0m__init__\u001b[0m\u001b[0;34m(\u001b[0m\u001b[0mendog\u001b[0m\u001b[0;34m,\u001b[0m \u001b[0mexog\u001b[0m\u001b[0;34m,\u001b[0m \u001b[0;34m**\u001b[0m\u001b[0mkwargs\u001b[0m\u001b[0;34m)\u001b[0m\u001b[0;34m\u001b[0m\u001b[0;34m\u001b[0m\u001b[0m\n\u001b[0m\u001b[1;32m    217\u001b[0m         \u001b[0mself\u001b[0m\u001b[0;34m.\u001b[0m\u001b[0minitialize\u001b[0m\u001b[0;34m(\u001b[0m\u001b[0;34m)\u001b[0m\u001b[0;34m\u001b[0m\u001b[0;34m\u001b[0m\u001b[0m\n\u001b[1;32m    218\u001b[0m \u001b[0;34m\u001b[0m\u001b[0m\n",
            "\u001b[0;32m/usr/local/lib/python3.6/dist-packages/statsmodels/base/model.py\u001b[0m in \u001b[0;36m__init__\u001b[0;34m(self, endog, exog, **kwargs)\u001b[0m\n\u001b[1;32m     66\u001b[0m         \u001b[0mhasconst\u001b[0m \u001b[0;34m=\u001b[0m \u001b[0mkwargs\u001b[0m\u001b[0;34m.\u001b[0m\u001b[0mpop\u001b[0m\u001b[0;34m(\u001b[0m\u001b[0;34m'hasconst'\u001b[0m\u001b[0;34m,\u001b[0m \u001b[0;32mNone\u001b[0m\u001b[0;34m)\u001b[0m\u001b[0;34m\u001b[0m\u001b[0;34m\u001b[0m\u001b[0m\n\u001b[1;32m     67\u001b[0m         self.data = self._handle_data(endog, exog, missing, hasconst,\n\u001b[0;32m---> 68\u001b[0;31m                                       **kwargs)\n\u001b[0m\u001b[1;32m     69\u001b[0m         \u001b[0mself\u001b[0m\u001b[0;34m.\u001b[0m\u001b[0mk_constant\u001b[0m \u001b[0;34m=\u001b[0m \u001b[0mself\u001b[0m\u001b[0;34m.\u001b[0m\u001b[0mdata\u001b[0m\u001b[0;34m.\u001b[0m\u001b[0mk_constant\u001b[0m\u001b[0;34m\u001b[0m\u001b[0;34m\u001b[0m\u001b[0m\n\u001b[1;32m     70\u001b[0m         \u001b[0mself\u001b[0m\u001b[0;34m.\u001b[0m\u001b[0mexog\u001b[0m \u001b[0;34m=\u001b[0m \u001b[0mself\u001b[0m\u001b[0;34m.\u001b[0m\u001b[0mdata\u001b[0m\u001b[0;34m.\u001b[0m\u001b[0mexog\u001b[0m\u001b[0;34m\u001b[0m\u001b[0;34m\u001b[0m\u001b[0m\n",
            "\u001b[0;32m/usr/local/lib/python3.6/dist-packages/statsmodels/base/model.py\u001b[0m in \u001b[0;36m_handle_data\u001b[0;34m(self, endog, exog, missing, hasconst, **kwargs)\u001b[0m\n\u001b[1;32m     89\u001b[0m \u001b[0;34m\u001b[0m\u001b[0m\n\u001b[1;32m     90\u001b[0m     \u001b[0;32mdef\u001b[0m \u001b[0m_handle_data\u001b[0m\u001b[0;34m(\u001b[0m\u001b[0mself\u001b[0m\u001b[0;34m,\u001b[0m \u001b[0mendog\u001b[0m\u001b[0;34m,\u001b[0m \u001b[0mexog\u001b[0m\u001b[0;34m,\u001b[0m \u001b[0mmissing\u001b[0m\u001b[0;34m,\u001b[0m \u001b[0mhasconst\u001b[0m\u001b[0;34m,\u001b[0m \u001b[0;34m**\u001b[0m\u001b[0mkwargs\u001b[0m\u001b[0;34m)\u001b[0m\u001b[0;34m:\u001b[0m\u001b[0;34m\u001b[0m\u001b[0;34m\u001b[0m\u001b[0m\n\u001b[0;32m---> 91\u001b[0;31m         \u001b[0mdata\u001b[0m \u001b[0;34m=\u001b[0m \u001b[0mhandle_data\u001b[0m\u001b[0;34m(\u001b[0m\u001b[0mendog\u001b[0m\u001b[0;34m,\u001b[0m \u001b[0mexog\u001b[0m\u001b[0;34m,\u001b[0m \u001b[0mmissing\u001b[0m\u001b[0;34m,\u001b[0m \u001b[0mhasconst\u001b[0m\u001b[0;34m,\u001b[0m \u001b[0;34m**\u001b[0m\u001b[0mkwargs\u001b[0m\u001b[0;34m)\u001b[0m\u001b[0;34m\u001b[0m\u001b[0;34m\u001b[0m\u001b[0m\n\u001b[0m\u001b[1;32m     92\u001b[0m         \u001b[0;31m# kwargs arrays could have changed, easier to just attach here\u001b[0m\u001b[0;34m\u001b[0m\u001b[0;34m\u001b[0m\u001b[0;34m\u001b[0m\u001b[0m\n\u001b[1;32m     93\u001b[0m         \u001b[0;32mfor\u001b[0m \u001b[0mkey\u001b[0m \u001b[0;32min\u001b[0m \u001b[0mkwargs\u001b[0m\u001b[0;34m:\u001b[0m\u001b[0;34m\u001b[0m\u001b[0;34m\u001b[0m\u001b[0m\n",
            "\u001b[0;32m/usr/local/lib/python3.6/dist-packages/statsmodels/base/data.py\u001b[0m in \u001b[0;36mhandle_data\u001b[0;34m(endog, exog, missing, hasconst, **kwargs)\u001b[0m\n\u001b[1;32m    633\u001b[0m     \u001b[0mklass\u001b[0m \u001b[0;34m=\u001b[0m \u001b[0mhandle_data_class_factory\u001b[0m\u001b[0;34m(\u001b[0m\u001b[0mendog\u001b[0m\u001b[0;34m,\u001b[0m \u001b[0mexog\u001b[0m\u001b[0;34m)\u001b[0m\u001b[0;34m\u001b[0m\u001b[0;34m\u001b[0m\u001b[0m\n\u001b[1;32m    634\u001b[0m     return klass(endog, exog=exog, missing=missing, hasconst=hasconst,\n\u001b[0;32m--> 635\u001b[0;31m                  **kwargs)\n\u001b[0m",
            "\u001b[0;32m/usr/local/lib/python3.6/dist-packages/statsmodels/base/data.py\u001b[0m in \u001b[0;36m__init__\u001b[0;34m(self, endog, exog, missing, hasconst, **kwargs)\u001b[0m\n\u001b[1;32m     78\u001b[0m         \u001b[0mself\u001b[0m\u001b[0;34m.\u001b[0m\u001b[0mconst_idx\u001b[0m \u001b[0;34m=\u001b[0m \u001b[0;32mNone\u001b[0m\u001b[0;34m\u001b[0m\u001b[0;34m\u001b[0m\u001b[0m\n\u001b[1;32m     79\u001b[0m         \u001b[0mself\u001b[0m\u001b[0;34m.\u001b[0m\u001b[0mk_constant\u001b[0m \u001b[0;34m=\u001b[0m \u001b[0;36m0\u001b[0m\u001b[0;34m\u001b[0m\u001b[0;34m\u001b[0m\u001b[0m\n\u001b[0;32m---> 80\u001b[0;31m         \u001b[0mself\u001b[0m\u001b[0;34m.\u001b[0m\u001b[0m_handle_constant\u001b[0m\u001b[0;34m(\u001b[0m\u001b[0mhasconst\u001b[0m\u001b[0;34m)\u001b[0m\u001b[0;34m\u001b[0m\u001b[0;34m\u001b[0m\u001b[0m\n\u001b[0m\u001b[1;32m     81\u001b[0m         \u001b[0mself\u001b[0m\u001b[0;34m.\u001b[0m\u001b[0m_check_integrity\u001b[0m\u001b[0;34m(\u001b[0m\u001b[0;34m)\u001b[0m\u001b[0;34m\u001b[0m\u001b[0;34m\u001b[0m\u001b[0m\n\u001b[1;32m     82\u001b[0m         \u001b[0mself\u001b[0m\u001b[0;34m.\u001b[0m\u001b[0m_cache\u001b[0m \u001b[0;34m=\u001b[0m \u001b[0;34m{\u001b[0m\u001b[0;34m}\u001b[0m\u001b[0;34m\u001b[0m\u001b[0;34m\u001b[0m\u001b[0m\n",
            "\u001b[0;32m/usr/local/lib/python3.6/dist-packages/statsmodels/base/data.py\u001b[0m in \u001b[0;36m_handle_constant\u001b[0;34m(self, hasconst)\u001b[0m\n\u001b[1;32m    122\u001b[0m             \u001b[0;31m# detect where the constant is\u001b[0m\u001b[0;34m\u001b[0m\u001b[0;34m\u001b[0m\u001b[0;34m\u001b[0m\u001b[0m\n\u001b[1;32m    123\u001b[0m             \u001b[0mcheck_implicit\u001b[0m \u001b[0;34m=\u001b[0m \u001b[0;32mFalse\u001b[0m\u001b[0;34m\u001b[0m\u001b[0;34m\u001b[0m\u001b[0m\n\u001b[0;32m--> 124\u001b[0;31m             \u001b[0mptp_\u001b[0m \u001b[0;34m=\u001b[0m \u001b[0mnp\u001b[0m\u001b[0;34m.\u001b[0m\u001b[0mptp\u001b[0m\u001b[0;34m(\u001b[0m\u001b[0mself\u001b[0m\u001b[0;34m.\u001b[0m\u001b[0mexog\u001b[0m\u001b[0;34m,\u001b[0m \u001b[0maxis\u001b[0m\u001b[0;34m=\u001b[0m\u001b[0;36m0\u001b[0m\u001b[0;34m)\u001b[0m\u001b[0;34m\u001b[0m\u001b[0;34m\u001b[0m\u001b[0m\n\u001b[0m\u001b[1;32m    125\u001b[0m             \u001b[0;32mif\u001b[0m \u001b[0;32mnot\u001b[0m \u001b[0mnp\u001b[0m\u001b[0;34m.\u001b[0m\u001b[0misfinite\u001b[0m\u001b[0;34m(\u001b[0m\u001b[0mptp_\u001b[0m\u001b[0;34m)\u001b[0m\u001b[0;34m.\u001b[0m\u001b[0mall\u001b[0m\u001b[0;34m(\u001b[0m\u001b[0;34m)\u001b[0m\u001b[0;34m:\u001b[0m\u001b[0;34m\u001b[0m\u001b[0;34m\u001b[0m\u001b[0m\n\u001b[1;32m    126\u001b[0m                 \u001b[0;32mraise\u001b[0m \u001b[0mMissingDataError\u001b[0m\u001b[0;34m(\u001b[0m\u001b[0;34m'exog contains inf or nans'\u001b[0m\u001b[0;34m)\u001b[0m\u001b[0;34m\u001b[0m\u001b[0;34m\u001b[0m\u001b[0m\n",
            "\u001b[0;32m<__array_function__ internals>\u001b[0m in \u001b[0;36mptp\u001b[0;34m(*args, **kwargs)\u001b[0m\n",
            "\u001b[0;32m/usr/local/lib/python3.6/dist-packages/numpy/core/fromnumeric.py\u001b[0m in \u001b[0;36mptp\u001b[0;34m(a, axis, out, keepdims)\u001b[0m\n\u001b[1;32m   2494\u001b[0m         \u001b[0;32melse\u001b[0m\u001b[0;34m:\u001b[0m\u001b[0;34m\u001b[0m\u001b[0;34m\u001b[0m\u001b[0m\n\u001b[1;32m   2495\u001b[0m             \u001b[0;32mreturn\u001b[0m \u001b[0mptp\u001b[0m\u001b[0;34m(\u001b[0m\u001b[0maxis\u001b[0m\u001b[0;34m=\u001b[0m\u001b[0maxis\u001b[0m\u001b[0;34m,\u001b[0m \u001b[0mout\u001b[0m\u001b[0;34m=\u001b[0m\u001b[0mout\u001b[0m\u001b[0;34m,\u001b[0m \u001b[0;34m**\u001b[0m\u001b[0mkwargs\u001b[0m\u001b[0;34m)\u001b[0m\u001b[0;34m\u001b[0m\u001b[0;34m\u001b[0m\u001b[0m\n\u001b[0;32m-> 2496\u001b[0;31m     \u001b[0;32mreturn\u001b[0m \u001b[0m_methods\u001b[0m\u001b[0;34m.\u001b[0m\u001b[0m_ptp\u001b[0m\u001b[0;34m(\u001b[0m\u001b[0ma\u001b[0m\u001b[0;34m,\u001b[0m \u001b[0maxis\u001b[0m\u001b[0;34m=\u001b[0m\u001b[0maxis\u001b[0m\u001b[0;34m,\u001b[0m \u001b[0mout\u001b[0m\u001b[0;34m=\u001b[0m\u001b[0mout\u001b[0m\u001b[0;34m,\u001b[0m \u001b[0;34m**\u001b[0m\u001b[0mkwargs\u001b[0m\u001b[0;34m)\u001b[0m\u001b[0;34m\u001b[0m\u001b[0;34m\u001b[0m\u001b[0m\n\u001b[0m\u001b[1;32m   2497\u001b[0m \u001b[0;34m\u001b[0m\u001b[0m\n\u001b[1;32m   2498\u001b[0m \u001b[0;34m\u001b[0m\u001b[0m\n",
            "\u001b[0;32m/usr/local/lib/python3.6/dist-packages/numpy/core/_methods.py\u001b[0m in \u001b[0;36m_ptp\u001b[0;34m(a, axis, out, keepdims)\u001b[0m\n\u001b[1;32m    228\u001b[0m \u001b[0;32mdef\u001b[0m \u001b[0m_ptp\u001b[0m\u001b[0;34m(\u001b[0m\u001b[0ma\u001b[0m\u001b[0;34m,\u001b[0m \u001b[0maxis\u001b[0m\u001b[0;34m=\u001b[0m\u001b[0;32mNone\u001b[0m\u001b[0;34m,\u001b[0m \u001b[0mout\u001b[0m\u001b[0;34m=\u001b[0m\u001b[0;32mNone\u001b[0m\u001b[0;34m,\u001b[0m \u001b[0mkeepdims\u001b[0m\u001b[0;34m=\u001b[0m\u001b[0;32mFalse\u001b[0m\u001b[0;34m)\u001b[0m\u001b[0;34m:\u001b[0m\u001b[0;34m\u001b[0m\u001b[0;34m\u001b[0m\u001b[0m\n\u001b[1;32m    229\u001b[0m     return um.subtract(\n\u001b[0;32m--> 230\u001b[0;31m         \u001b[0mumr_maximum\u001b[0m\u001b[0;34m(\u001b[0m\u001b[0ma\u001b[0m\u001b[0;34m,\u001b[0m \u001b[0maxis\u001b[0m\u001b[0;34m,\u001b[0m \u001b[0;32mNone\u001b[0m\u001b[0;34m,\u001b[0m \u001b[0mout\u001b[0m\u001b[0;34m,\u001b[0m \u001b[0mkeepdims\u001b[0m\u001b[0;34m)\u001b[0m\u001b[0;34m,\u001b[0m\u001b[0;34m\u001b[0m\u001b[0;34m\u001b[0m\u001b[0m\n\u001b[0m\u001b[1;32m    231\u001b[0m         \u001b[0mumr_minimum\u001b[0m\u001b[0;34m(\u001b[0m\u001b[0ma\u001b[0m\u001b[0;34m,\u001b[0m \u001b[0maxis\u001b[0m\u001b[0;34m,\u001b[0m \u001b[0;32mNone\u001b[0m\u001b[0;34m,\u001b[0m \u001b[0;32mNone\u001b[0m\u001b[0;34m,\u001b[0m \u001b[0mkeepdims\u001b[0m\u001b[0;34m)\u001b[0m\u001b[0;34m,\u001b[0m\u001b[0;34m\u001b[0m\u001b[0;34m\u001b[0m\u001b[0m\n\u001b[1;32m    232\u001b[0m         \u001b[0mout\u001b[0m\u001b[0;34m\u001b[0m\u001b[0;34m\u001b[0m\u001b[0m\n",
            "\u001b[0;31mValueError\u001b[0m: zero-size array to reduction operation maximum which has no identity"
          ]
        },
        {
          "output_type": "display_data",
          "data": {
            "image/png": "[encoded data removed]",
            "text/plain": [
              "<Figure size 864x720 with 6 Axes>"
            ]
          },
          "metadata": {
            "tags": []
          }
        },
        {
          "output_type": "display_data",
          "data": {
            "image/png": "[encoded data removed]",
            "text/plain": [
              "<Figure size 864x720 with 6 Axes>"
            ]
          },
          "metadata": {
            "tags": []
          }
        },
        {
          "output_type": "display_data",
          "data": {
            "image/png": "[encoded data removed]",
            "text/plain": [
              "<Figure size 864x720 with 6 Axes>"
            ]
          },
          "metadata": {
            "tags": []
          }
        },
        {
          "output_type": "display_data",
          "data": {
            "image/png": "[encoded data removed]",
            "text/plain": [
              "<Figure size 864x720 with 6 Axes>"
            ]
          },
          "metadata": {
            "tags": []
          }
        },
        {
          "output_type": "display_data",
          "data": {
            "image/png": "[encoded data removed]",
            "text/plain": [
              "<Figure size 864x720 with 1 Axes>"
            ]
          },
          "metadata": {
            "tags": []
          }
        }
      ]
    },
    {
      "cell_type": "code",
      "metadata": {
        "id": "Z37axuQ_QgeA",
        "colab_type": "code",
        "colab": {}
      },
      "source": [
        "if type(df_fit0) != list:\n",
        "    print(df_fit0.head(20))"
      ],
      "execution_count": 0,
      "outputs": []
    },
    {
      "cell_type": "markdown",
      "metadata": {
        "id": "dX1UcXHHrc8t",
        "colab_type": "text"
      },
      "source": [
        "# Drop additional NaN models that somehow went wrong here"
      ]
    },
    {
      "cell_type": "code",
      "metadata": {
        "id": "gV6hhSZzrUnh",
        "colab_type": "code",
        "colab": {}
      },
      "source": [
        "df.dropna(inplace=True)"
      ],
      "execution_count": 0,
      "outputs": []
    },
    {
      "cell_type": "code",
      "metadata": {
        "id": "rDcEN27LvVCJ",
        "colab_type": "code",
        "colab": {}
      },
      "source": [
        "'''Plotting by architectures within each datasets'''\n",
        "groups = df_table['group'].value_counts().to_frame()\n",
        "\n",
        "for d in datasets:\n",
        "    df = df_full[d].copy()\n",
        "    this_groups = df['group'].value_counts().to_frame()\n",
        "\n",
        "    for g in this_groups[this_groups['group'] > 1].index:\n",
        "\n",
        "        this_group = df[df['group'] == g].copy()\n",
        "        this_group = this_group.reset_index(drop = True)\n",
        "\n",
        "        tacc = [c for c in metrics_acc if c in this_group.columns]\n",
        "\n",
        "        plotloc = int(len(tacc)*len(metrics)/num_rows*100 + 10*num_cols + 1)\n",
        "\n",
        "        if len(tacc) > 1:\n",
        "            plt.figure(figsize = (12,20))\n",
        "        else:\n",
        "            plt.figure(figsize = (12,10))\n",
        "\n",
        "        for ac in tacc:#metrics_acc:\n",
        "            for x in metrics:\n",
        "                plt.subplot(plotloc)\n",
        "                for i in range(len(this_group)):\n",
        "                    plt.scatter(this_group.loc[i,x], this_group.loc[i, ac])\n",
        "                plt.xlabel(x)\n",
        "                plt.ylabel(ac)\n",
        "                if len(g) > 20: #to avoid overlap in title\n",
        "                    plt.title('{}\\nmodels pretrained on {}\\n({}~{})'.format(g, d, ac, x), \n",
        "                              fontweight = 'bold', fontsize = 11)\n",
        "                else:\n",
        "                    plt.title('{} models pretrained on {}\\n({}~{})'.format(g, d, ac, x), \n",
        "                              fontweight = 'bold')\n",
        "\n",
        "                plotloc += 1\n",
        "\n",
        "            plt.legend(this_group['Model'], loc='center left', \n",
        "                       bbox_to_anchor=(1, 0.5))          \n",
        "        plt.tight_layout()\n",
        "\n",
        "del this_groups\n",
        "del this_group"
      ],
      "execution_count": 0,
      "outputs": []
    },
    {
      "cell_type": "markdown",
      "metadata": {
        "id": "f892jj5VplrR",
        "colab_type": "text"
      },
      "source": [
        "# Fit a linear regression on to the graphs from above\n"
      ]
    },
    {
      "cell_type": "code",
      "metadata": {
        "id": "dvWJv6C9OM-C",
        "colab_type": "code",
        "colab": {}
      },
      "source": [
        "'''Fit a simple or polynomial on to the graph from above\n",
        "ALL SIMPLE LINEAR FIT\n",
        "\n",
        "output:\n",
        "-------------------\n",
        "1. Plots\n",
        "2. df_fit (next cell): records the X, Y, degree, SSE and MSE for the fit'''\n",
        "\n",
        "#    ply_degree = 2\n",
        "df_fit = []\n",
        "for d in datasets:\n",
        "    df = df_full[d].copy()\n",
        "\n",
        "    df.dropna(inplace=True)\n",
        "    this_groups = df['group'].value_counts().to_frame()\n",
        "\n",
        "\n",
        "    for g in this_groups[this_groups['group'] > 1].index:\n",
        "\n",
        "        this_group = df[df['group'] == g].copy()\n",
        "        this_group = this_group.dropna().reset_index(drop = True)\n",
        "        n = len(this_group) #size\n",
        "\n",
        "        tacc = [c for c in metrics_acc if c in this_group.columns]\n",
        "\n",
        "        plotloc = int(len(tacc)*len(metrics)/num_rows*100 + 10*num_cols + 1)\n",
        "\n",
        "        if len(tacc) > 1:\n",
        "            plt.figure(figsize = (12,20))\n",
        "        else:\n",
        "            plt.figure(figsize = (12,10))\n",
        "        \n",
        "        #if the size is too small, fit a linear reg; otherwise, fit a polynomial\n",
        "        if n > 1000: #10: \n",
        "            this_deg = 2\n",
        "        else:\n",
        "            this_deg = 1\n",
        "            \n",
        "        for ac in tacc:#metrics_acc:\n",
        "            for x in metrics:\n",
        "\n",
        "                try:\n",
        "                  plt.subplot(plotloc)\n",
        "                  for i in range(len(this_group)):\n",
        "                      plt.scatter(this_group.loc[i,x], this_group.loc[i, ac], label = this_group.loc[i, 'modelname'])\n",
        "                  plt.xlabel(x)\n",
        "                  plt.ylabel(ac)\n",
        "                  if len(g) > 20:\n",
        "                      plt.title('{}\\nmodels pretrained on {}\\n({}~{})'.format(g, d, ac, x), \n",
        "                                fontweight = 'bold', fontsize = 10)\n",
        "                  else:\n",
        "                      plt.title('{} models pretrained on {}\\n({}~{})'.format(g, d, ac, x), \n",
        "                                fontweight = 'bold')\n",
        "\n",
        "                \n",
        "                  # this_fit = np.polyfit(this_group[x], this_group[ac], \n",
        "                  #                       this_deg ,full = True)\n",
        "                  # coef = this_fit[0]\n",
        "                  this_fit = sm.OLS(this_group[ac], sm.add_constant(this_group[x])).fit()\n",
        "                  coef = this_fit.params[x] #this_fit[0]\n",
        "                  this_x = np.linspace(min(this_group[x]), max(this_group[x]), 50)\n",
        "\n",
        "                  plt.plot(this_x, this_fit.predict(sm.add_constant(this_x))) ##coef[0]*this_x**2 + coef[1]*this_x + coef[2]) \n",
        "\n",
        "                  try:\n",
        "                      this_sse = this_fit.ssr ##this_fit[1][0]\n",
        "                      this_rsquared = this_fit.rsquared\n",
        "                  except:\n",
        "                      pass\n",
        "                      # try:\n",
        "                      #     this_sse = np.sum((coef[0]*this_group[x]**2 + coef[1]*this_group[x] + coef[2] - this_group[ac])**2)\n",
        "                      # except:\n",
        "                      #     this_sse = np.sum((coef[0]*this_group[x] + coef[1] - this_group[ac])**2)                                \n",
        "\n",
        "                  this_arch = [d, g, ac, x, this_deg, n, this_rsquared, this_sse, this_sse/n]\n",
        "\n",
        "                except np.linalg.LinAlgError: #does not converge\n",
        "                    print(\"{} did not converge {}\".format(d))\n",
        "                    this_arch = [d, g, ac, x, this_deg, n, 'Not converge', np.nan, np.nan]\n",
        "\n",
        "                df_fit.append(this_arch)\n",
        "                plotloc += 1\n",
        "\n",
        "            plt.legend(loc='center left', bbox_to_anchor=(1, 0.5)) #this_group['Model']\n",
        "        plt.tight_layout()\n",
        "\n"
      ],
      "execution_count": 0,
      "outputs": []
    },
    {
      "cell_type": "code",
      "metadata": {
        "id": "Hj6pUKrS0u-k",
        "colab_type": "code",
        "colab": {}
      },
      "source": [
        "df_fit = pd.DataFrame(df_fit, columns = ['Dataset', 'Archtecture', 'Test Accuracy', \n",
        "                                          'x Variable', 'Poly Degree','# of Models', \n",
        "                                         'r^2', 'SSE', 'MSE'])\n",
        "\n",
        "print(\"number of records {}\".format(len(df_fit)))\n",
        "df_fit.dropna(inplace=True)\n",
        "\n",
        "del this_groups\n",
        "del this_group\n",
        "del this_x\n",
        "del this_sse\n",
        "\n",
        "print(\"number of records {}\".format(len(df_fit)))\n",
        "df_fit"
      ],
      "execution_count": 0,
      "outputs": []
    },
    {
      "cell_type": "code",
      "metadata": {
        "id": "RH_7kq0mZxHu",
        "colab_type": "code",
        "colab": {}
      },
      "source": [
        "## df_fit records the X, Y, SSE, and MSE for the fit\n",
        "df_fit.to_excel(path + '/' + 'df_fit.xlsx')\n"
      ],
      "execution_count": 0,
      "outputs": []
    },
    {
      "cell_type": "code",
      "metadata": {
        "id": "pdr44LIRybCE",
        "colab_type": "code",
        "colab": {}
      },
      "source": [
        "for x in ['r^2', 'MSE']:\n",
        "    temp = df_fit.copy()\n",
        "    temp = temp[temp['# of Models'] > 5].reset_index(drop = True)\n",
        "    df_fitp = temp.pivot_table(values = x, columns = 'x Variable', \n",
        "                            index = ['Dataset', 'Archtecture', 'Test Accuracy'])\n",
        "\n",
        "    print('For ' + x + ':')\n",
        "    summary = df_fitp.describe()\n",
        "    display(summary)\n",
        "    print('===============================================')\n",
        "\n",
        "del df_fitp"
      ],
      "execution_count": 0,
      "outputs": []
    },
    {
      "cell_type": "code",
      "metadata": {
        "id": "FIfUmuEIMbUo",
        "colab_type": "code",
        "colab": {}
      },
      "source": [
        "'''Between the ww metrics\n",
        "no alpha_weighted'''\n",
        "\n",
        "for d in datasets:\n",
        "    temp = df_full[d].copy()\n",
        "    df = temp.dropna()\n",
        "    if len(temp) == 1:\n",
        "        continue\n",
        "\n",
        "    plotloc = 131\n",
        "    plt.figure(figsize = (10,10))\n",
        "    for x, y in itertools.combinations(metrics[:1] + metrics[2:],2):\n",
        "        #plt.subplot(plotloc)\n",
        "        plt.scatter(df[x], df[y])\n",
        "        plt.xlabel(x)\n",
        "        plt.ylabel(y)\n",
        "        plt.title('All {} pretrained models\\n({}~{})'.format(d, y, x), \n",
        "                  fontweight = 'bold')\n",
        "        plt.figure(figsize = (10,10))\n",
        "        plt.tight_layout()\n",
        "        plt.show()\n",
        "\n",
        "        plotloc += 1\n",
        "\n",
        "    \n",
        "\n",
        "del temp\n"
      ],
      "execution_count": 0,
      "outputs": []
    },
    {
      "cell_type": "code",
      "metadata": {
        "id": "tFAYteapdPpz",
        "colab_type": "code",
        "colab": {}
      },
      "source": [
        "df.head()"
      ],
      "execution_count": 0,
      "outputs": []
    },
    {
      "cell_type": "markdown",
      "metadata": {
        "id": "2rEChA0iXqmZ",
        "colab_type": "text"
      },
      "source": [
        "## **HuggingFace Models**"
      ]
    },
    {
      "cell_type": "markdown",
      "metadata": {
        "id": "K-T4bLnmjHr9",
        "colab_type": "text"
      },
      "source": [
        "### **1. Analyze all models using Weightwatcher**"
      ]
    },
    {
      "cell_type": "code",
      "metadata": {
        "id": "upPr6yMPPYnW",
        "colab_type": "code",
        "colab": {}
      },
      "source": [
        "!pip install pytorch-transformers"
      ],
      "execution_count": 0,
      "outputs": []
    },
    {
      "cell_type": "code",
      "metadata": {
        "id": "uw0C_CiDYDN2",
        "colab_type": "code",
        "colab": {}
      },
      "source": [
        "import pytorch_transformers as pt\n",
        "import torch"
      ],
      "execution_count": 0,
      "outputs": []
    },
    {
      "cell_type": "code",
      "metadata": {
        "id": "7BWwU-SfazRa",
        "colab_type": "code",
        "colab": {}
      },
      "source": [
        "hf_models = pd.read_html('https://huggingface.co/pytorch-transformers/pretrained_models.html')[0]\n",
        "hf_models.head()"
      ],
      "execution_count": 0,
      "outputs": []
    },
    {
      "cell_type": "code",
      "metadata": {
        "id": "QVqFdleIYM0k",
        "colab_type": "code",
        "colab": {}
      },
      "source": [
        "# PyTorch-Transformers has a unified API\n",
        "# for 7 transformer architectures and 30 pretrained weights.\n",
        "#          Model              | Tokenizer             | Pretrained weights shortcuts\n",
        "MODELS = [(pt.BertModel,       pt.BertTokenizer,       hf_models.loc[hf_models['Architecture'] == 'BERT', 'Shortcut name'].tolist()),\n",
        "          (pt.OpenAIGPTModel,  pt.OpenAIGPTTokenizer,  hf_models.loc[hf_models['Architecture'] == 'GPT', 'Shortcut name'].tolist()),\n",
        "          (pt.GPT2Model,       pt.GPT2Tokenizer,       hf_models.loc[hf_models['Architecture'] == 'GPT-2', 'Shortcut name'].tolist()),\n",
        "          (pt.TransfoXLModel,  pt.TransfoXLTokenizer,  hf_models.loc[hf_models['Architecture'] == 'Transformer-XL', 'Shortcut name'].tolist()),\n",
        "          (pt.XLNetModel,      pt.XLNetTokenizer,      hf_models.loc[hf_models['Architecture'] == 'XLNet', 'Shortcut name'].tolist()),\n",
        "          (pt.XLMModel,        pt.XLMTokenizer,        hf_models.loc[hf_models['Architecture'] == 'XLM', 'Shortcut name'].tolist()),\n",
        "          (pt.RobertaModel,    pt.RobertaTokenizer,    hf_models.loc[hf_models['Architecture'] == 'RoBERTa', 'Shortcut name'].tolist()),\n",
        "          (pt.DistilBertModel, pt.DistilBertTokenizer, hf_models.loc[hf_models['Architecture'] == 'DistilBERT', 'Shortcut name'].tolist())]\n"
      ],
      "execution_count": 0,
      "outputs": []
    },
    {
      "cell_type": "code",
      "metadata": {
        "id": "_oIOsAeWYne2",
        "colab_type": "code",
        "colab": {}
      },
      "source": [
        "'''Run the HuggingFace Models'''\n",
        "data_hf = {}\n",
        "i = 0\n",
        "for model_class, tokenizer_class, pretrained_weights in MODELS[6:]:\n",
        "    # Load pretrained model/tokenizer\n",
        "    #tokenizer = tokenizer_class.from_pretrained(pretrained_weights)\n",
        "    \n",
        "    for m in pretrained_weights:\n",
        "        \n",
        "        if (m == 'roberta-base') | (m == 'roberta-large'):\n",
        "            continue\n",
        "            \n",
        "        s = time.time()\n",
        "        model = model_class.from_pretrained(m)\n",
        "        \n",
        "        ## apply ww\n",
        "        watcher = ww.WeightWatcher(model=model, logger=logger)\n",
        "        results = watcher.analyze(alphas = True, spectralnorms=True, softranks=True)\n",
        "        \n",
        "        data_hf[m]=watcher.get_summary()\n",
        "        e = time.time()\n",
        "        \n",
        "        print('\\nTime spent to run {} model is {} minutes'.format(m, (e-s)/60.))\n",
        "        print('----------------------------------------------------------------')\n",
        "        \n",
        "        df_hf = pd.DataFrame.from_dict(data_hf).transpose()\n",
        "        df_hf.to_excel('/content/drive/My Drive/data_hf_{}.xlsx'.format(m))\n",
        "\n",
        "        i += 0"
      ],
      "execution_count": 0,
      "outputs": []
    },
    {
      "cell_type": "code",
      "metadata": {
        "id": "pv281sjfam8g",
        "colab_type": "code",
        "colab": {}
      },
      "source": [
        "try:\n",
        "    df_hugging = pd.read_excel(path + '/df_hugging.xlsx')\\\n",
        "                .rename(columns = {'Unnamed: 0': 'Architecture'})\n",
        "    df_hugging['Architecture'] = df_hugging['Architecture'].fillna(method = 'ffill')\n",
        "except:\n",
        "    print(\"Concating...\")\n",
        "    df_hugging = pd.DataFrame()\n",
        "    for f in os.listdir(path):\n",
        "        if f.startswith('data_hf'):\n",
        "            temp = pd.read_excel(path + '/' + f)\\\n",
        "                        .rename(columns = {'Unnamed: 0':'modelname'})\n",
        "            print(f)\n",
        "            df_hugging = pd.concat([df_hugging, temp], axis = 0, sort = False)\n",
        "\n",
        "    df_hugging = df_hugging.drop_duplicates().reset_index(drop = True)\n",
        "\n",
        "    df_hugging = df_hugging.merge(hf_models.loc[:, ['Architecture',\t'Shortcut name']],\n",
        "                                  left_on = 'modelname', right_on = 'Shortcut name',\n",
        "                                  how = 'left').drop(['Shortcut name'], axis = 1)\n",
        "\n",
        "    df_hugging = df_hugging[['Architecture'] + df_hugging.columns[:-1].tolist()]\n",
        "\n",
        "    del temp\n",
        "\n",
        "    df_hugging = df_hugging.set_index(['modelname'])\n",
        "    df_hugging = df_hugging.loc[hf_models['Shortcut name'],:].reset_index()\n",
        "\n",
        "    df_hugging.to_excel(path + '/df_hugging.xlsx')\n",
        "\n",
        "# if len(df_hugging) != len(hf_models):\n",
        "#     print('Missing models')\n",
        "\n",
        "df_hugging.head()"
      ],
      "execution_count": 0,
      "outputs": []
    },
    {
      "cell_type": "markdown",
      "metadata": {
        "id": "Vrz_PzwUjQVi",
        "colab_type": "text"
      },
      "source": [
        "### **2. Plots**"
      ]
    },
    {
      "cell_type": "code",
      "metadata": {
        "id": "NMmrVO7ANTHt",
        "colab_type": "code",
        "colab": {}
      },
      "source": [
        "## Barplot for all archtectures\n",
        "try:\n",
        "    df_hugging\n",
        "except:\n",
        "    df_hugging = pd.read_excel(path + '/df_hugging.xlsx')\\\n",
        "                .rename(columns = {'Unnamed: 0': 'Architecture'})\n",
        "    df_hugging['Architecture'] = df_hugging['Architecture'].fillna(method = 'ffill')\n",
        "\n",
        "metrics = ['alpha', 'alpha_weighted', 'spectralnormlog', 'softrank']\n",
        "df_hugging['spectralnormlog'] = np.log(df_hugging['spectralnorm'])\n",
        "\n",
        "for m in metrics:\n",
        "    plt.figure(figsize = (10,15))\n",
        "    df_hugging.plot.barh(x = 'modelname', y = m, figsize = (10,15))\n",
        "    plt.title('Barplot for all architectures in hugging face: {}'.format(m), fontweight = 'bold', fontsize = 15)\n",
        "    plt.legend([m], fontsize = 15)\n"
      ],
      "execution_count": 0,
      "outputs": []
    },
    {
      "cell_type": "code",
      "metadata": {
        "id": "1TFIaugZPD0f",
        "colab_type": "code",
        "colab": {}
      },
      "source": [
        "## Scatter plot for other metrics\n",
        "temp = df_hugging.copy()\n",
        "\n",
        "for x, y in itertools.combinations(metrics[:1] + metrics[2:],2):\n",
        "    plt.figure(figsize = (8, 6))\n",
        "    for i in range(len(df_hugging)):\n",
        "        plt.scatter(temp.loc[i, x], temp.loc[i, y], label = temp.loc[i, 'modelname'])\n",
        "    plt.xlabel(x)\n",
        "    plt.ylabel(y)\n",
        "    plt.title('All HuggingFace models\\n({}~{})'.format(y, x), \n",
        "              fontweight = 'bold')  \n",
        "    plt.legend(loc='center left', bbox_to_anchor=(1, 0.5), ncol=2)  \n",
        "\n",
        "    \n",
        "del temp"
      ],
      "execution_count": 0,
      "outputs": []
    },
    {
      "cell_type": "code",
      "metadata": {
        "id": "Ih6N7Goo0r7n",
        "colab_type": "code",
        "colab": {}
      },
      "source": [
        ""
      ],
      "execution_count": 0,
      "outputs": []
    }
  ]
}